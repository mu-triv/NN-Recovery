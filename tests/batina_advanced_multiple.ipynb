{
 "cells": [
  {
   "cell_type": "markdown",
   "metadata": {},
   "source": [
    "# Batina Advanced Weight Recovery\n",
    "\n",
    "This notebook demonstrates how to guess a floating number using Hamming Weight model.\n",
    "\n",
    "We generate a random secret floating number. Then we use hamming weight model to guess the number."
   ]
  },
  {
   "cell_type": "code",
   "execution_count": 1,
   "metadata": {},
   "outputs": [],
   "source": [
    "import pathlib\n",
    "TEST_RESULT_DIR = './results'\n",
    "\n",
    "pathlib.Path(TEST_RESULT_DIR).mkdir(parents=True, exist_ok=True) "
   ]
  },
  {
   "cell_type": "code",
   "execution_count": 2,
   "metadata": {},
   "outputs": [],
   "source": [
    "import sys\n",
    "sys.path.append(\"../\")\n",
    "\n",
    "from pybatina.utils import *\n",
    "from pybatina.advanced_weight_recovery import *"
   ]
  },
  {
   "cell_type": "code",
   "execution_count": 3,
   "metadata": {},
   "outputs": [],
   "source": [
    "guess_range=(-5.0, 5.0)"
   ]
  },
  {
   "cell_type": "markdown",
   "metadata": {},
   "source": [
    "## Recover multiple secret numbers"
   ]
  },
  {
   "cell_type": "code",
   "execution_count": 4,
   "metadata": {},
   "outputs": [],
   "source": [
    "SECRET_VALUE='secret value'\n",
    "GUESSED_VALUE = 'guessed value'\n",
    "CORRELATION='correlation'\n",
    "TIME='exec. time'\n",
    "df_index = [SECRET_VALUE, GUESSED_VALUE, CORRELATION, TIME]"
   ]
  },
  {
   "cell_type": "code",
   "execution_count": 5,
   "metadata": {},
   "outputs": [
    {
     "name": "stdout",
     "output_type": "stream",
     "text": [
      "secret_numbers.shape = (5000,)\n"
     ]
    }
   ],
   "source": [
    "precision = 1e-3\n",
    "n_secret_numbers = 5000\n",
    "secret_numbers = np.concatenate((\n",
    "    np.random.uniform(guess_range[0], guess_range[1], int(n_secret_numbers*2/4) ),\n",
    "    np.random.uniform(guess_range[0]*3e-1, guess_range[1]*3e-1, int(n_secret_numbers*1/4)),\n",
    "    np.random.uniform(guess_range[0]*1e-1, guess_range[1]*1e-1, int(n_secret_numbers*1/4))\n",
    ")).astype(np.float32)\n",
    "np.random.shuffle(secret_numbers)\n",
    "print('secret_numbers.shape = %s' % (str(secret_numbers.shape)))"
   ]
  },
  {
   "cell_type": "markdown",
   "metadata": {},
   "source": [
    "## Batina without noise"
   ]
  },
  {
   "cell_type": "code",
   "execution_count": 6,
   "metadata": {},
   "outputs": [
    {
     "name": "stdout",
     "output_type": "stream",
     "text": [
      "fname = ./results/advanced_results_100805_30.csv\n"
     ]
    }
   ],
   "source": [
    "from os import path\n",
    "wr = AdvancedWeightRecovery(guess_range=guess_range, number_of_best_candidates=30)\n",
    "fname = path.join(TEST_RESULT_DIR, 'advanced_results_%s_%d.csv' % (''.join(['%02d' % i for i in wr.MANTISSA_THREE_BYTES]), wr.number_of_best_candidates))\n",
    "print('fname =', fname)"
   ]
  },
  {
   "cell_type": "markdown",
   "metadata": {},
   "source": [
    "### load existing DB"
   ]
  },
  {
   "cell_type": "code",
   "execution_count": 7,
   "metadata": {},
   "outputs": [
    {
     "name": "stdout",
     "output_type": "stream",
     "text": [
      "read results in ./results/advanced_results_100805_30.csv\n",
      "number of weight values 3343\n"
     ]
    }
   ],
   "source": [
    "# read the existing data\n",
    "try:\n",
    "    last_df = pd.read_csv(fname, index_col=0)\n",
    "    print('read results in %s' % fname)\n",
    "    print('number of weight values', len(last_df[SECRET_VALUE].unique()))\n",
    "except FileNotFoundError:\n",
    "    last_df = pd.DataFrame()\n",
    "    pass\n",
    "\n",
    "#last_df = pd.DataFrame()\n",
    "batina_results = last_df"
   ]
  },
  {
   "cell_type": "markdown",
   "metadata": {},
   "source": [
    "### main process"
   ]
  },
  {
   "cell_type": "code",
   "execution_count": 8,
   "metadata": {
    "scrolled": true
   },
   "outputs": [
    {
     "name": "stderr",
     "output_type": "stream",
     "text": [
      "<timed exec>:9: RuntimeWarning: overflow encountered in multiply\n",
      "/usr/local/lib/python3.8/dist-packages/numpy/lib/function_base.py:2167: RuntimeWarning: invalid value encountered in ? (vectorized)\n",
      "  outputs = ufunc(*inputs)\n",
      "../pybatina/advanced_weight_recovery.py:208: RuntimeWarning: invalid value encountered in greater_equal\n",
      "  guess_numbers = guess_numbers[np.where(np.logical_and(guess_numbers >= self.guess_range[0], guess_numbers <= self.guess_range[1]))]\n",
      "../pybatina/advanced_weight_recovery.py:208: RuntimeWarning: invalid value encountered in less_equal\n",
      "  guess_numbers = guess_numbers[np.where(np.logical_and(guess_numbers >= self.guess_range[0], guess_numbers <= self.guess_range[1]))]\n",
      "/usr/local/lib/python3.8/dist-packages/numpy/lib/function_base.py:2167: RuntimeWarning: overflow encountered in ? (vectorized)\n",
      "  outputs = ufunc(*inputs)\n"
     ]
    },
    {
     "ename": "KeyboardInterrupt",
     "evalue": "",
     "output_type": "error",
     "traceback": [
      "\u001b[0;31m---------------------------------------------------------------------------\u001b[0m",
      "\u001b[0;31mKeyboardInterrupt\u001b[0m                         Traceback (most recent call last)",
      "\u001b[0;32m<timed exec>\u001b[0m in \u001b[0;36m<module>\u001b[0;34m\u001b[0m\n",
      "\u001b[0;32m~/programming/others/NN-Recovery/pybatina/advanced_weight_recovery.py\u001b[0m in \u001b[0;36mrecover_weight\u001b[0;34m(self, secret_hamming_weight_set)\u001b[0m\n\u001b[1;32m    173\u001b[0m                                                                           \u001b[0mmantissa_byte_index\u001b[0m\u001b[0;34m=\u001b[0m\u001b[0mmantissa_byte_index\u001b[0m\u001b[0;34m,\u001b[0m\u001b[0;34m\u001b[0m\u001b[0;34m\u001b[0m\u001b[0m\n\u001b[1;32m    174\u001b[0m                                                                           numbers=numbers)\n\u001b[0;32m--> 175\u001b[0;31m                 \u001b[0mmantissa_corr\u001b[0m \u001b[0;34m=\u001b[0m \u001b[0mAdvancedWeightRecovery\u001b[0m\u001b[0;34m.\u001b[0m\u001b[0mcompute_corr_numbers\u001b[0m\u001b[0;34m(\u001b[0m\u001b[0msecret_hw\u001b[0m\u001b[0;34m,\u001b[0m \u001b[0mknown_inputs\u001b[0m\u001b[0;34m,\u001b[0m\u001b[0mguess_numbers\u001b[0m\u001b[0;34m)\u001b[0m\u001b[0;34m\u001b[0m\u001b[0;34m\u001b[0m\u001b[0m\n\u001b[0m\u001b[1;32m    176\u001b[0m             \u001b[0;32melse\u001b[0m\u001b[0;34m:\u001b[0m\u001b[0;34m\u001b[0m\u001b[0;34m\u001b[0m\u001b[0m\n\u001b[1;32m    177\u001b[0m                 \u001b[0mmantissa_corr\u001b[0m \u001b[0;34m=\u001b[0m \u001b[0mpd\u001b[0m\u001b[0;34m.\u001b[0m\u001b[0mSeries\u001b[0m\u001b[0;34m(\u001b[0m\u001b[0;34m)\u001b[0m\u001b[0;34m\u001b[0m\u001b[0;34m\u001b[0m\u001b[0m\n",
      "\u001b[0;32m~/programming/others/NN-Recovery/pybatina/advanced_weight_recovery.py\u001b[0m in \u001b[0;36mcompute_corr_numbers\u001b[0;34m(secret_hw, known_inputs, guess_numbers)\u001b[0m\n\u001b[1;32m    150\u001b[0m         \"\"\"\n\u001b[1;32m    151\u001b[0m         hw = pd.DataFrame(columns=guess_numbers,\n\u001b[0;32m--> 152\u001b[0;31m                           data=np.vectorize(hamming_weight)(known_inputs.reshape(-1, 1) * guess_numbers))\n\u001b[0m\u001b[1;32m    153\u001b[0m         \u001b[0;32mreturn\u001b[0m \u001b[0mhw\u001b[0m\u001b[0;34m.\u001b[0m\u001b[0mcorrwith\u001b[0m\u001b[0;34m(\u001b[0m\u001b[0mpd\u001b[0m\u001b[0;34m.\u001b[0m\u001b[0mSeries\u001b[0m\u001b[0;34m(\u001b[0m\u001b[0msecret_hw\u001b[0m\u001b[0;34m)\u001b[0m\u001b[0;34m,\u001b[0m \u001b[0mmethod\u001b[0m\u001b[0;34m=\u001b[0m\u001b[0;34m'pearson'\u001b[0m\u001b[0;34m)\u001b[0m\u001b[0;34m\u001b[0m\u001b[0;34m\u001b[0m\u001b[0m\n\u001b[1;32m    154\u001b[0m \u001b[0;34m\u001b[0m\u001b[0m\n",
      "\u001b[0;32m/usr/local/lib/python3.8/dist-packages/numpy/lib/function_base.py\u001b[0m in \u001b[0;36m__call__\u001b[0;34m(self, *args, **kwargs)\u001b[0m\n\u001b[1;32m   2089\u001b[0m             \u001b[0mvargs\u001b[0m\u001b[0;34m.\u001b[0m\u001b[0mextend\u001b[0m\u001b[0;34m(\u001b[0m\u001b[0;34m[\u001b[0m\u001b[0mkwargs\u001b[0m\u001b[0;34m[\u001b[0m\u001b[0m_n\u001b[0m\u001b[0;34m]\u001b[0m \u001b[0;32mfor\u001b[0m \u001b[0m_n\u001b[0m \u001b[0;32min\u001b[0m \u001b[0mnames\u001b[0m\u001b[0;34m]\u001b[0m\u001b[0;34m)\u001b[0m\u001b[0;34m\u001b[0m\u001b[0;34m\u001b[0m\u001b[0m\n\u001b[1;32m   2090\u001b[0m \u001b[0;34m\u001b[0m\u001b[0m\n\u001b[0;32m-> 2091\u001b[0;31m         \u001b[0;32mreturn\u001b[0m \u001b[0mself\u001b[0m\u001b[0;34m.\u001b[0m\u001b[0m_vectorize_call\u001b[0m\u001b[0;34m(\u001b[0m\u001b[0mfunc\u001b[0m\u001b[0;34m=\u001b[0m\u001b[0mfunc\u001b[0m\u001b[0;34m,\u001b[0m \u001b[0margs\u001b[0m\u001b[0;34m=\u001b[0m\u001b[0mvargs\u001b[0m\u001b[0;34m)\u001b[0m\u001b[0;34m\u001b[0m\u001b[0;34m\u001b[0m\u001b[0m\n\u001b[0m\u001b[1;32m   2092\u001b[0m \u001b[0;34m\u001b[0m\u001b[0m\n\u001b[1;32m   2093\u001b[0m     \u001b[0;32mdef\u001b[0m \u001b[0m_get_ufunc_and_otypes\u001b[0m\u001b[0;34m(\u001b[0m\u001b[0mself\u001b[0m\u001b[0;34m,\u001b[0m \u001b[0mfunc\u001b[0m\u001b[0;34m,\u001b[0m \u001b[0margs\u001b[0m\u001b[0;34m)\u001b[0m\u001b[0;34m:\u001b[0m\u001b[0;34m\u001b[0m\u001b[0;34m\u001b[0m\u001b[0m\n",
      "\u001b[0;32m/usr/local/lib/python3.8/dist-packages/numpy/lib/function_base.py\u001b[0m in \u001b[0;36m_vectorize_call\u001b[0;34m(self, func, args)\u001b[0m\n\u001b[1;32m   2165\u001b[0m                       for a in args]\n\u001b[1;32m   2166\u001b[0m \u001b[0;34m\u001b[0m\u001b[0m\n\u001b[0;32m-> 2167\u001b[0;31m             \u001b[0moutputs\u001b[0m \u001b[0;34m=\u001b[0m \u001b[0mufunc\u001b[0m\u001b[0;34m(\u001b[0m\u001b[0;34m*\u001b[0m\u001b[0minputs\u001b[0m\u001b[0;34m)\u001b[0m\u001b[0;34m\u001b[0m\u001b[0;34m\u001b[0m\u001b[0m\n\u001b[0m\u001b[1;32m   2168\u001b[0m \u001b[0;34m\u001b[0m\u001b[0m\n\u001b[1;32m   2169\u001b[0m             \u001b[0;32mif\u001b[0m \u001b[0mufunc\u001b[0m\u001b[0;34m.\u001b[0m\u001b[0mnout\u001b[0m \u001b[0;34m==\u001b[0m \u001b[0;36m1\u001b[0m\u001b[0;34m:\u001b[0m\u001b[0;34m\u001b[0m\u001b[0;34m\u001b[0m\u001b[0m\n",
      "\u001b[0;32m~/programming/others/NN-Recovery/pybatina/utils.py\u001b[0m in \u001b[0;36mhamming_weight\u001b[0;34m(f)\u001b[0m\n\u001b[1;32m     37\u001b[0m     \u001b[0;34m:\u001b[0m\u001b[0;32mreturn\u001b[0m\u001b[0;34m:\u001b[0m \u001b[0mthe\u001b[0m \u001b[0mHamming\u001b[0m \u001b[0mweight\u001b[0m\u001b[0;34m\u001b[0m\u001b[0;34m\u001b[0m\u001b[0m\n\u001b[1;32m     38\u001b[0m     \"\"\"\n\u001b[0;32m---> 39\u001b[0;31m     \u001b[0;32mreturn\u001b[0m \u001b[0mfloat_to_bin\u001b[0m\u001b[0;34m(\u001b[0m\u001b[0mf\u001b[0m\u001b[0;34m)\u001b[0m\u001b[0;34m.\u001b[0m\u001b[0mcount\u001b[0m\u001b[0;34m(\u001b[0m\u001b[0;34m'1'\u001b[0m\u001b[0;34m)\u001b[0m\u001b[0;34m\u001b[0m\u001b[0;34m\u001b[0m\u001b[0m\n\u001b[0m",
      "\u001b[0;32m~/programming/others/NN-Recovery/pybatina/utils.py\u001b[0m in \u001b[0;36mfloat_to_bin\u001b[0;34m(x)\u001b[0m\n\u001b[1;32m     22\u001b[0m \u001b[0;34m\u001b[0m\u001b[0m\n\u001b[1;32m     23\u001b[0m \u001b[0;34m\u001b[0m\u001b[0m\n\u001b[0;32m---> 24\u001b[0;31m \u001b[0;32mdef\u001b[0m \u001b[0mfloat_to_bin\u001b[0m\u001b[0;34m(\u001b[0m\u001b[0mx\u001b[0m\u001b[0;34m)\u001b[0m\u001b[0;34m:\u001b[0m\u001b[0;34m\u001b[0m\u001b[0;34m\u001b[0m\u001b[0m\n\u001b[0m\u001b[1;32m     25\u001b[0m     \"\"\"\n\u001b[1;32m     26\u001b[0m     \u001b[0mconvert\u001b[0m \u001b[0;32mfrom\u001b[0m \u001b[0man\u001b[0m \u001b[0;36m4\u001b[0m\u001b[0;34m-\u001b[0m\u001b[0mbyte\u001b[0m \u001b[0mfloating\u001b[0m \u001b[0mpoint\u001b[0m \u001b[0mnumber\u001b[0m \u001b[0mto\u001b[0m \u001b[0mbinary\u001b[0m \u001b[0mstring\u001b[0m\u001b[0;34m\u001b[0m\u001b[0;34m\u001b[0m\u001b[0m\n",
      "\u001b[0;31mKeyboardInterrupt\u001b[0m: "
     ]
    }
   ],
   "source": [
    "%%time \n",
    "\n",
    "import time\n",
    "\n",
    "for value in secret_numbers:\n",
    "    try:\n",
    "        if value in batina_results[SECRET_VALUE].unique():\n",
    "            continue\n",
    "    except KeyError:\n",
    "        pass\n",
    "    secret_hamming_weight_set = [np.vectorize(hamming_weight)(input_values * value) for input_values in wr.input_value_set]    \n",
    "    start_time = time.time()\n",
    "    s = wr.recover_weight(secret_hamming_weight_set)    \n",
    "    stop_time = time.time()\n",
    "    s.name = CORRELATION\n",
    "    df = pd.DataFrame(s).reset_index().rename(columns={'index': GUESSED_VALUE})\n",
    "    df[TIME] = stop_time - start_time\n",
    "    df[SECRET_VALUE] = value\n",
    "    batina_results = pd.concat([batina_results, df], axis=0, ignore_index=True)"
   ]
  },
  {
   "cell_type": "code",
   "execution_count": 9,
   "metadata": {
    "scrolled": true
   },
   "outputs": [
    {
     "data": {
      "text/html": [
       "<div>\n",
       "<style scoped>\n",
       "    .dataframe tbody tr th:only-of-type {\n",
       "        vertical-align: middle;\n",
       "    }\n",
       "\n",
       "    .dataframe tbody tr th {\n",
       "        vertical-align: top;\n",
       "    }\n",
       "\n",
       "    .dataframe thead th {\n",
       "        text-align: right;\n",
       "    }\n",
       "</style>\n",
       "<table border=\"1\" class=\"dataframe\">\n",
       "  <thead>\n",
       "    <tr style=\"text-align: right;\">\n",
       "      <th></th>\n",
       "      <th>guessed value</th>\n",
       "      <th>correlation</th>\n",
       "      <th>secret value</th>\n",
       "      <th>exec. time</th>\n",
       "    </tr>\n",
       "  </thead>\n",
       "  <tbody>\n",
       "    <tr>\n",
       "      <th>0</th>\n",
       "      <td>1.091812</td>\n",
       "      <td>1.000000</td>\n",
       "      <td>1.091812</td>\n",
       "      <td>0.000000</td>\n",
       "    </tr>\n",
       "    <tr>\n",
       "      <th>1</th>\n",
       "      <td>1.091812</td>\n",
       "      <td>0.956010</td>\n",
       "      <td>1.091812</td>\n",
       "      <td>0.000000</td>\n",
       "    </tr>\n",
       "    <tr>\n",
       "      <th>2</th>\n",
       "      <td>1.091812</td>\n",
       "      <td>0.955862</td>\n",
       "      <td>1.091812</td>\n",
       "      <td>0.000000</td>\n",
       "    </tr>\n",
       "    <tr>\n",
       "      <th>3</th>\n",
       "      <td>1.091816</td>\n",
       "      <td>0.901422</td>\n",
       "      <td>1.091812</td>\n",
       "      <td>0.000000</td>\n",
       "    </tr>\n",
       "    <tr>\n",
       "      <th>4</th>\n",
       "      <td>1.091816</td>\n",
       "      <td>0.886878</td>\n",
       "      <td>1.091812</td>\n",
       "      <td>0.000000</td>\n",
       "    </tr>\n",
       "    <tr>\n",
       "      <th>...</th>\n",
       "      <td>...</td>\n",
       "      <td>...</td>\n",
       "      <td>...</td>\n",
       "      <td>...</td>\n",
       "    </tr>\n",
       "    <tr>\n",
       "      <th>102085</th>\n",
       "      <td>0.074222</td>\n",
       "      <td>0.494070</td>\n",
       "      <td>0.074326</td>\n",
       "      <td>14.761721</td>\n",
       "    </tr>\n",
       "    <tr>\n",
       "      <th>102086</th>\n",
       "      <td>0.074466</td>\n",
       "      <td>0.491333</td>\n",
       "      <td>0.074326</td>\n",
       "      <td>14.761721</td>\n",
       "    </tr>\n",
       "    <tr>\n",
       "      <th>102087</th>\n",
       "      <td>0.074344</td>\n",
       "      <td>0.487602</td>\n",
       "      <td>0.074326</td>\n",
       "      <td>14.761721</td>\n",
       "    </tr>\n",
       "    <tr>\n",
       "      <th>102088</th>\n",
       "      <td>0.074405</td>\n",
       "      <td>0.484223</td>\n",
       "      <td>0.074326</td>\n",
       "      <td>14.761721</td>\n",
       "    </tr>\n",
       "    <tr>\n",
       "      <th>102089</th>\n",
       "      <td>0.074348</td>\n",
       "      <td>0.481263</td>\n",
       "      <td>0.074326</td>\n",
       "      <td>14.761721</td>\n",
       "    </tr>\n",
       "  </tbody>\n",
       "</table>\n",
       "<p>102090 rows × 4 columns</p>\n",
       "</div>"
      ],
      "text/plain": [
       "        guessed value  correlation  secret value  exec. time\n",
       "0            1.091812     1.000000      1.091812    0.000000\n",
       "1            1.091812     0.956010      1.091812    0.000000\n",
       "2            1.091812     0.955862      1.091812    0.000000\n",
       "3            1.091816     0.901422      1.091812    0.000000\n",
       "4            1.091816     0.886878      1.091812    0.000000\n",
       "...               ...          ...           ...         ...\n",
       "102085       0.074222     0.494070      0.074326   14.761721\n",
       "102086       0.074466     0.491333      0.074326   14.761721\n",
       "102087       0.074344     0.487602      0.074326   14.761721\n",
       "102088       0.074405     0.484223      0.074326   14.761721\n",
       "102089       0.074348     0.481263      0.074326   14.761721\n",
       "\n",
       "[102090 rows x 4 columns]"
      ]
     },
     "execution_count": 9,
     "metadata": {},
     "output_type": "execute_result"
    }
   ],
   "source": [
    "batina_results"
   ]
  },
  {
   "cell_type": "markdown",
   "metadata": {},
   "source": [
    "### merge and save DB"
   ]
  },
  {
   "cell_type": "code",
   "execution_count": 10,
   "metadata": {},
   "outputs": [
    {
     "name": "stdout",
     "output_type": "stream",
     "text": [
      "number of weight values 3401\n",
      "save results in ./results/advanced_results_100805_30.csv\n"
     ]
    }
   ],
   "source": [
    "print('number of weight values', len(batina_results[SECRET_VALUE].unique()))\n",
    "batina_results.to_csv(fname)\n",
    "print('save results in %s' % fname)"
   ]
  },
  {
   "cell_type": "markdown",
   "metadata": {},
   "source": [
    "### Statistics"
   ]
  },
  {
   "cell_type": "code",
   "execution_count": 11,
   "metadata": {},
   "outputs": [],
   "source": [
    "ERROR = 'error'\n",
    "def statistics(df):\n",
    "    dft = df[df_index].astype(dtype=np.float64)\n",
    "    dft[ERROR] = np.abs((dft[GUESSED_VALUE] - dft[SECRET_VALUE])/dft[SECRET_VALUE])    \n",
    "    best_corr = dft.loc[dft.groupby(SECRET_VALUE)[CORRELATION].idxmax()]\n",
    "    best_err = dft.loc[dft.groupby(SECRET_VALUE)[ERROR].idxmin()]\n",
    "    return best_corr.T, best_err.T"
   ]
  },
  {
   "cell_type": "code",
   "execution_count": 12,
   "metadata": {},
   "outputs": [],
   "source": [
    "batina_best_corr, batina_best_err = statistics(batina_results)"
   ]
  },
  {
   "cell_type": "code",
   "execution_count": 13,
   "metadata": {},
   "outputs": [
    {
     "data": {
      "text/plain": [
       "True     3397\n",
       "False       4\n",
       "Name: error, dtype: int64"
      ]
     },
     "execution_count": 13,
     "metadata": {},
     "output_type": "execute_result"
    }
   ],
   "source": [
    "study_score = batina_best_corr\n",
    "(study_score.T[ERROR] < 1e-3).value_counts()"
   ]
  },
  {
   "cell_type": "code",
   "execution_count": 14,
   "metadata": {},
   "outputs": [
    {
     "data": {
      "text/html": [
       "<div>\n",
       "<style scoped>\n",
       "    .dataframe tbody tr th:only-of-type {\n",
       "        vertical-align: middle;\n",
       "    }\n",
       "\n",
       "    .dataframe tbody tr th {\n",
       "        vertical-align: top;\n",
       "    }\n",
       "\n",
       "    .dataframe thead th {\n",
       "        text-align: right;\n",
       "    }\n",
       "</style>\n",
       "<table border=\"1\" class=\"dataframe\">\n",
       "  <thead>\n",
       "    <tr style=\"text-align: right;\">\n",
       "      <th></th>\n",
       "      <th>secret value</th>\n",
       "      <th>guessed value</th>\n",
       "      <th>correlation</th>\n",
       "      <th>exec. time</th>\n",
       "      <th>error</th>\n",
       "    </tr>\n",
       "  </thead>\n",
       "  <tbody>\n",
       "    <tr>\n",
       "      <th>93510</th>\n",
       "      <td>4.974066</td>\n",
       "      <td>0.019430</td>\n",
       "      <td>1.000000</td>\n",
       "      <td>13.976947</td>\n",
       "      <td>0.996094</td>\n",
       "    </tr>\n",
       "    <tr>\n",
       "      <th>74070</th>\n",
       "      <td>2.687558</td>\n",
       "      <td>3.833986</td>\n",
       "      <td>0.716374</td>\n",
       "      <td>0.000000</td>\n",
       "      <td>0.426568</td>\n",
       "    </tr>\n",
       "    <tr>\n",
       "      <th>8880</th>\n",
       "      <td>0.744873</td>\n",
       "      <td>0.979493</td>\n",
       "      <td>0.820149</td>\n",
       "      <td>0.000000</td>\n",
       "      <td>0.314980</td>\n",
       "    </tr>\n",
       "    <tr>\n",
       "      <th>24540</th>\n",
       "      <td>-0.499909</td>\n",
       "      <td>-0.499273</td>\n",
       "      <td>0.779921</td>\n",
       "      <td>0.000000</td>\n",
       "      <td>0.001272</td>\n",
       "    </tr>\n",
       "    <tr>\n",
       "      <th>30060</th>\n",
       "      <td>-0.124942</td>\n",
       "      <td>-0.124847</td>\n",
       "      <td>0.683184</td>\n",
       "      <td>0.000000</td>\n",
       "      <td>0.000767</td>\n",
       "    </tr>\n",
       "    <tr>\n",
       "      <th>43590</th>\n",
       "      <td>-0.499645</td>\n",
       "      <td>-0.499291</td>\n",
       "      <td>0.805292</td>\n",
       "      <td>0.000000</td>\n",
       "      <td>0.000710</td>\n",
       "    </tr>\n",
       "    <tr>\n",
       "      <th>18210</th>\n",
       "      <td>-3.997897</td>\n",
       "      <td>-3.995795</td>\n",
       "      <td>0.930473</td>\n",
       "      <td>0.000000</td>\n",
       "      <td>0.000526</td>\n",
       "    </tr>\n",
       "    <tr>\n",
       "      <th>34350</th>\n",
       "      <td>4.001888</td>\n",
       "      <td>4.000007</td>\n",
       "      <td>0.820444</td>\n",
       "      <td>0.000000</td>\n",
       "      <td>0.000470</td>\n",
       "    </tr>\n",
       "    <tr>\n",
       "      <th>10110</th>\n",
       "      <td>-0.250025</td>\n",
       "      <td>-0.250122</td>\n",
       "      <td>0.928795</td>\n",
       "      <td>0.000000</td>\n",
       "      <td>0.000387</td>\n",
       "    </tr>\n",
       "    <tr>\n",
       "      <th>42840</th>\n",
       "      <td>-4.000631</td>\n",
       "      <td>-4.001954</td>\n",
       "      <td>0.840811</td>\n",
       "      <td>0.000000</td>\n",
       "      <td>0.000331</td>\n",
       "    </tr>\n",
       "    <tr>\n",
       "      <th>11730</th>\n",
       "      <td>2.535628</td>\n",
       "      <td>2.535023</td>\n",
       "      <td>0.727411</td>\n",
       "      <td>0.000000</td>\n",
       "      <td>0.000238</td>\n",
       "    </tr>\n",
       "    <tr>\n",
       "      <th>28500</th>\n",
       "      <td>0.500121</td>\n",
       "      <td>0.500002</td>\n",
       "      <td>0.918109</td>\n",
       "      <td>0.000000</td>\n",
       "      <td>0.000237</td>\n",
       "    </tr>\n",
       "    <tr>\n",
       "      <th>59880</th>\n",
       "      <td>-0.857168</td>\n",
       "      <td>-0.857344</td>\n",
       "      <td>0.876997</td>\n",
       "      <td>0.000000</td>\n",
       "      <td>0.000205</td>\n",
       "    </tr>\n",
       "    <tr>\n",
       "      <th>28980</th>\n",
       "      <td>-0.374987</td>\n",
       "      <td>-0.374949</td>\n",
       "      <td>0.949018</td>\n",
       "      <td>0.000000</td>\n",
       "      <td>0.000103</td>\n",
       "    </tr>\n",
       "    <tr>\n",
       "      <th>75330</th>\n",
       "      <td>-0.321424</td>\n",
       "      <td>-0.321394</td>\n",
       "      <td>0.893278</td>\n",
       "      <td>0.000000</td>\n",
       "      <td>0.000094</td>\n",
       "    </tr>\n",
       "    <tr>\n",
       "      <th>1530</th>\n",
       "      <td>0.458340</td>\n",
       "      <td>0.458361</td>\n",
       "      <td>0.907176</td>\n",
       "      <td>0.000000</td>\n",
       "      <td>0.000045</td>\n",
       "    </tr>\n",
       "    <tr>\n",
       "      <th>4680</th>\n",
       "      <td>2.714225</td>\n",
       "      <td>2.714285</td>\n",
       "      <td>0.877055</td>\n",
       "      <td>0.000000</td>\n",
       "      <td>0.000022</td>\n",
       "    </tr>\n",
       "    <tr>\n",
       "      <th>61440</th>\n",
       "      <td>0.129030</td>\n",
       "      <td>0.129032</td>\n",
       "      <td>0.909130</td>\n",
       "      <td>0.000000</td>\n",
       "      <td>0.000019</td>\n",
       "    </tr>\n",
       "    <tr>\n",
       "      <th>68130</th>\n",
       "      <td>-1.433353</td>\n",
       "      <td>-1.433334</td>\n",
       "      <td>0.945197</td>\n",
       "      <td>0.000000</td>\n",
       "      <td>0.000013</td>\n",
       "    </tr>\n",
       "    <tr>\n",
       "      <th>64590</th>\n",
       "      <td>0.269528</td>\n",
       "      <td>0.269525</td>\n",
       "      <td>0.782400</td>\n",
       "      <td>0.000000</td>\n",
       "      <td>0.000012</td>\n",
       "    </tr>\n",
       "  </tbody>\n",
       "</table>\n",
       "</div>"
      ],
      "text/plain": [
       "       secret value  guessed value  correlation  exec. time     error\n",
       "93510      4.974066       0.019430     1.000000   13.976947  0.996094\n",
       "74070      2.687558       3.833986     0.716374    0.000000  0.426568\n",
       "8880       0.744873       0.979493     0.820149    0.000000  0.314980\n",
       "24540     -0.499909      -0.499273     0.779921    0.000000  0.001272\n",
       "30060     -0.124942      -0.124847     0.683184    0.000000  0.000767\n",
       "43590     -0.499645      -0.499291     0.805292    0.000000  0.000710\n",
       "18210     -3.997897      -3.995795     0.930473    0.000000  0.000526\n",
       "34350      4.001888       4.000007     0.820444    0.000000  0.000470\n",
       "10110     -0.250025      -0.250122     0.928795    0.000000  0.000387\n",
       "42840     -4.000631      -4.001954     0.840811    0.000000  0.000331\n",
       "11730      2.535628       2.535023     0.727411    0.000000  0.000238\n",
       "28500      0.500121       0.500002     0.918109    0.000000  0.000237\n",
       "59880     -0.857168      -0.857344     0.876997    0.000000  0.000205\n",
       "28980     -0.374987      -0.374949     0.949018    0.000000  0.000103\n",
       "75330     -0.321424      -0.321394     0.893278    0.000000  0.000094\n",
       "1530       0.458340       0.458361     0.907176    0.000000  0.000045\n",
       "4680       2.714225       2.714285     0.877055    0.000000  0.000022\n",
       "61440      0.129030       0.129032     0.909130    0.000000  0.000019\n",
       "68130     -1.433353      -1.433334     0.945197    0.000000  0.000013\n",
       "64590      0.269528       0.269525     0.782400    0.000000  0.000012"
      ]
     },
     "execution_count": 14,
     "metadata": {},
     "output_type": "execute_result"
    }
   ],
   "source": [
    "error_sorted = study_score.T.sort_values(ERROR, ascending=False)\n",
    "error_sorted[:20]"
   ]
  },
  {
   "cell_type": "code",
   "execution_count": 15,
   "metadata": {},
   "outputs": [
    {
     "data": {
      "text/plain": [
       "4.974065780639648"
      ]
     },
     "execution_count": 15,
     "metadata": {},
     "output_type": "execute_result"
    }
   ],
   "source": [
    "error_sorted.iloc[0][SECRET_VALUE]"
   ]
  },
  {
   "cell_type": "code",
   "execution_count": 16,
   "metadata": {
    "scrolled": false
   },
   "outputs": [
    {
     "name": "stdout",
     "output_type": "stream",
     "text": [
      "save results in ./results/advanced_batina_graphs.jpg\n"
     ]
    },
    {
     "data": {
      "image/png": "[encoded data removed]",
      "text/plain": [
       "<Figure size 1080x1296 with 3 Axes>"
      ]
     },
     "metadata": {
      "needs_background": "light"
     },
     "output_type": "display_data"
    }
   ],
   "source": [
    "from matplotlib import pyplot as plt\n",
    "\n",
    "fig, ax = plt.subplots(nrows=3, ncols=1, figsize=(15, 18))\n",
    "df = batina_best_corr.T\n",
    "df[[GUESSED_VALUE, SECRET_VALUE]].set_index(SECRET_VALUE)[GUESSED_VALUE].plot(ax=ax[0], marker='.', label='guessed values (without noise)')\n",
    "ax[0].plot(guess_range, guess_range, linewidth=1, label='ideal', color='red')\n",
    "ax[0].plot([guess_range[1], guess_range[0]], guess_range, linewidth=1, label='sign error', color='yellow')\n",
    "ax[0].set_ylim(np.min(guess_range), np.max(guess_range))\n",
    "\n",
    "ax[0].set_ylabel('Guessed values')\n",
    "ax[0].set_title('Guessed values (Batina, best corr)')\n",
    "\n",
    "df = batina_best_corr.T\n",
    "df[[ERROR, SECRET_VALUE]].set_index(SECRET_VALUE)[ERROR].plot(ax=ax[1], marker='.', label='errors (without noise)')\n",
    "ax[1].set_ylabel('Error')\n",
    "ax[1].set_title('Guess Error (Batina, best corr)')\n",
    "\n",
    "df = batina_best_corr.T\n",
    "df[[CORRELATION, SECRET_VALUE]].set_index(SECRET_VALUE)[CORRELATION].plot(ax=ax[2], marker='.', label='correlations (without noise)')\n",
    "ax[2].set_ylabel('Correlation')\n",
    "ax[2].set_title('Correlation (Batina, best corr)')\n",
    "\n",
    "for a in ax:\n",
    "    a.legend()\n",
    "    a.grid(True)\n",
    "    a.set_xlabel('secret values')\n",
    "    a.set_xlim(np.min(guess_range), np.max(guess_range))\n",
    "\n",
    "from os import path\n",
    "fig_fname = path.join(TEST_RESULT_DIR, 'advanced_batina_graphs.jpg')\n",
    "plt.savefig(fig_fname)\n",
    "print('save results in %s' % fig_fname)\n",
    "plt.show()"
   ]
  },
  {
   "cell_type": "code",
   "execution_count": null,
   "metadata": {},
   "outputs": [],
   "source": []
  }
 ],
 "metadata": {
  "kernelspec": {
   "display_name": "Python 3",
   "language": "python",
   "name": "python3"
  },
  "language_info": {
   "codemirror_mode": {
    "name": "ipython",
    "version": 3
   },
   "file_extension": ".py",
   "mimetype": "text/x-python",
   "name": "python",
   "nbconvert_exporter": "python",
   "pygments_lexer": "ipython3",
   "version": "3.8.2"
  }
 },
 "nbformat": 4,
 "nbformat_minor": 4
}
