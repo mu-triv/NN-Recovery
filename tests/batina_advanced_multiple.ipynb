{
 "cells": [
  {
   "cell_type": "markdown",
   "metadata": {},
   "source": [
    "# Batina Advanced Weight Recovery\n",
    "\n",
    "This notebook demonstrates how to guess a floating number using Hamming Weight model.\n",
    "\n",
    "We generate a random secret floating number. Then we use hamming weight model to guess the number."
   ]
  },
  {
   "cell_type": "code",
   "execution_count": 1,
   "metadata": {},
   "outputs": [],
   "source": [
    "import pathlib\n",
    "TEST_RESULT_DIR = './results'\n",
    "\n",
    "pathlib.Path(TEST_RESULT_DIR).mkdir(parents=True, exist_ok=True) "
   ]
  },
  {
   "cell_type": "code",
   "execution_count": 2,
   "metadata": {},
   "outputs": [],
   "source": [
    "import sys\n",
    "sys.path.append(\"../\")\n",
    "\n",
    "from pybatina.utils import *\n",
    "from pybatina.advanced_weight_recovery import *"
   ]
  },
  {
   "cell_type": "code",
   "execution_count": 3,
   "metadata": {},
   "outputs": [],
   "source": [
    "guess_range=(-5.0, 5.0)"
   ]
  },
  {
   "cell_type": "markdown",
   "metadata": {},
   "source": [
    "## Recover multiple secret numbers"
   ]
  },
  {
   "cell_type": "code",
   "execution_count": 4,
   "metadata": {},
   "outputs": [],
   "source": [
    "SECRET_VALUE='secret value'\n",
    "GUESSED_VALUE = 'guessed value'\n",
    "CORRELATION='correlation'\n",
    "TIME='exec. time'\n",
    "df_index = [SECRET_VALUE, GUESSED_VALUE, CORRELATION, TIME]"
   ]
  },
  {
   "cell_type": "code",
   "execution_count": 5,
   "metadata": {},
   "outputs": [
    {
     "name": "stdout",
     "output_type": "stream",
     "text": [
      "secret_numbers.shape = (5000,)\n"
     ]
    }
   ],
   "source": [
    "precision = 1e-3\n",
    "n_secret_numbers = 5000\n",
    "secret_numbers = np.concatenate((\n",
    "    np.random.uniform(guess_range[0], guess_range[1], int(n_secret_numbers*2/4) ),\n",
    "    np.random.uniform(guess_range[0]*3e-1, guess_range[1]*3e-1, int(n_secret_numbers*1/4)),\n",
    "    np.random.uniform(guess_range[0]*1e-1, guess_range[1]*1e-1, int(n_secret_numbers*1/4))\n",
    ")).astype(np.float32)\n",
    "np.random.shuffle(secret_numbers)\n",
    "print('secret_numbers.shape = %s' % (str(secret_numbers.shape)))"
   ]
  },
  {
   "cell_type": "code",
   "execution_count": 6,
   "metadata": {},
   "outputs": [],
   "source": [
    "ERROR = 'error'\n",
    "def statistics(df):\n",
    "    dft = df[df_index].astype(dtype=np.float64)\n",
    "    dft[ERROR] = np.abs((dft[GUESSED_VALUE] - dft[SECRET_VALUE])/dft[SECRET_VALUE])    \n",
    "    best_corr = dft.loc[dft.groupby(SECRET_VALUE)[CORRELATION].idxmax()]\n",
    "    best_err = dft.loc[dft.groupby(SECRET_VALUE)[ERROR].idxmin()]\n",
    "    return best_corr.T, best_err.T"
   ]
  },
  {
   "cell_type": "markdown",
   "metadata": {},
   "source": [
    "## Batina without noise"
   ]
  },
  {
   "cell_type": "code",
   "execution_count": 7,
   "metadata": {},
   "outputs": [
    {
     "name": "stdout",
     "output_type": "stream",
     "text": [
      "fname = ./results/advanced_results_070808_10.csv\n"
     ]
    }
   ],
   "source": [
    "from os import path\n",
    "wr = AdvancedWeightRecovery(guess_range=guess_range, number_of_best_candidates=10)\n",
    "fname = path.join(TEST_RESULT_DIR, 'advanced_results_%s_%d.csv' % (''.join(['%02d' % i for i in wr.MANTISSA_THREE_BYTES]), wr.number_of_best_candidates))\n",
    "print('fname =', fname)"
   ]
  },
  {
   "cell_type": "markdown",
   "metadata": {},
   "source": [
    "### load existing DB"
   ]
  },
  {
   "cell_type": "code",
   "execution_count": 8,
   "metadata": {},
   "outputs": [
    {
     "name": "stdout",
     "output_type": "stream",
     "text": [
      "read results in ./results/advanced_results_070808_10.csv\n",
      "number of weight values 1889\n"
     ]
    }
   ],
   "source": [
    "# read the existing data\n",
    "try:\n",
    "    last_df = pd.read_csv(fname, index_col=0)\n",
    "    print('read results in %s' % fname)\n",
    "    print('number of weight values', len(last_df[SECRET_VALUE].unique()))\n",
    "except FileNotFoundError:\n",
    "    last_df = pd.DataFrame()\n",
    "    pass\n",
    "\n",
    "#last_df = pd.DataFrame()\n",
    "batina_results = last_df"
   ]
  },
  {
   "cell_type": "markdown",
   "metadata": {},
   "source": [
    "### main process"
   ]
  },
  {
   "cell_type": "code",
   "execution_count": 9,
   "metadata": {
    "scrolled": true
   },
   "outputs": [
    {
     "name": "stderr",
     "output_type": "stream",
     "text": [
      "/usr/local/lib/python3.8/dist-packages/numpy/lib/function_base.py:2167: RuntimeWarning: invalid value encountered in ? (vectorized)\n",
      "  outputs = ufunc(*inputs)\n",
      "../pybatina/advanced_weight_recovery.py:246: RuntimeWarning: invalid value encountered in greater_equal\n",
      "  guess_numbers = guess_numbers[np.where(np.logical_and(guess_numbers >= self.guess_range[0], guess_numbers <= self.guess_range[1]))]\n",
      "../pybatina/advanced_weight_recovery.py:246: RuntimeWarning: invalid value encountered in less_equal\n",
      "  guess_numbers = guess_numbers[np.where(np.logical_and(guess_numbers >= self.guess_range[0], guess_numbers <= self.guess_range[1]))]\n",
      "/usr/local/lib/python3.8/dist-packages/numpy/lib/function_base.py:2167: RuntimeWarning: overflow encountered in ? (vectorized)\n",
      "  outputs = ufunc(*inputs)\n",
      "<timed exec>:9: RuntimeWarning: overflow encountered in multiply\n",
      "../pybatina/advanced_weight_recovery.py:190: RuntimeWarning: invalid value encountered in multiply\n",
      "  data=np.vectorize(hamming_weight)(known_inputs.reshape(-1, 1) * guess_numbers))\n"
     ]
    },
    {
     "ename": "KeyboardInterrupt",
     "evalue": "",
     "output_type": "error",
     "traceback": [
      "\u001b[0;31m---------------------------------------------------------------------------\u001b[0m",
      "\u001b[0;31mKeyboardInterrupt\u001b[0m                         Traceback (most recent call last)",
      "\u001b[0;32m<timed exec>\u001b[0m in \u001b[0;36m<module>\u001b[0;34m\u001b[0m\n",
      "\u001b[0;32m~/programming/others/NN-Recovery/pybatina/advanced_weight_recovery.py\u001b[0m in \u001b[0;36mrecover_weight\u001b[0;34m(self, secret_hamming_weight_set)\u001b[0m\n\u001b[1;32m    219\u001b[0m                                                                               numbers=np.asarray([number]))\n\u001b[1;32m    220\u001b[0m                     \u001b[0;31m# compute correlations of the guess values which are generated from the number\u001b[0m\u001b[0;34m\u001b[0m\u001b[0;34m\u001b[0m\u001b[0;34m\u001b[0m\u001b[0m\n\u001b[0;32m--> 221\u001b[0;31m                     \u001b[0mcorr\u001b[0m \u001b[0;34m=\u001b[0m \u001b[0mAdvancedWeightRecovery\u001b[0m\u001b[0;34m.\u001b[0m\u001b[0mcompute_corr_numbers\u001b[0m\u001b[0;34m(\u001b[0m\u001b[0msecret_hw\u001b[0m\u001b[0;34m,\u001b[0m \u001b[0mknown_inputs\u001b[0m\u001b[0;34m,\u001b[0m \u001b[0mguess_numbers\u001b[0m\u001b[0;34m)\u001b[0m\u001b[0;34m.\u001b[0m\u001b[0msort_values\u001b[0m\u001b[0;34m(\u001b[0m\u001b[0mascending\u001b[0m\u001b[0;34m=\u001b[0m\u001b[0;32mFalse\u001b[0m\u001b[0;34m)\u001b[0m\u001b[0;34m\u001b[0m\u001b[0;34m\u001b[0m\u001b[0m\n\u001b[0m\u001b[1;32m    222\u001b[0m                     \u001b[0;31m# only keep the best values (we can keep more, but is this needed)\u001b[0m\u001b[0;34m\u001b[0m\u001b[0;34m\u001b[0m\u001b[0;34m\u001b[0m\u001b[0m\n\u001b[1;32m    223\u001b[0m                     \u001b[0mmantissa_corr\u001b[0m \u001b[0;34m=\u001b[0m \u001b[0mpd\u001b[0m\u001b[0;34m.\u001b[0m\u001b[0mconcat\u001b[0m\u001b[0;34m(\u001b[0m\u001b[0;34m[\u001b[0m\u001b[0mmantissa_corr\u001b[0m\u001b[0;34m,\u001b[0m \u001b[0mcorr\u001b[0m\u001b[0;34m.\u001b[0m\u001b[0miloc\u001b[0m\u001b[0;34m[\u001b[0m\u001b[0;34m:\u001b[0m\u001b[0mnumber_of_subcorr\u001b[0m\u001b[0;34m]\u001b[0m\u001b[0;34m]\u001b[0m\u001b[0;34m)\u001b[0m\u001b[0;34m\u001b[0m\u001b[0;34m\u001b[0m\u001b[0m\n",
      "\u001b[0;32m~/programming/others/NN-Recovery/pybatina/advanced_weight_recovery.py\u001b[0m in \u001b[0;36mcompute_corr_numbers\u001b[0;34m(secret_hw, known_inputs, guess_numbers)\u001b[0m\n\u001b[1;32m    188\u001b[0m         \"\"\"\n\u001b[1;32m    189\u001b[0m         hw = pd.DataFrame(columns=guess_numbers,\n\u001b[0;32m--> 190\u001b[0;31m                           data=np.vectorize(hamming_weight)(known_inputs.reshape(-1, 1) * guess_numbers))\n\u001b[0m\u001b[1;32m    191\u001b[0m         \u001b[0;32mreturn\u001b[0m \u001b[0mhw\u001b[0m\u001b[0;34m.\u001b[0m\u001b[0mcorrwith\u001b[0m\u001b[0;34m(\u001b[0m\u001b[0mpd\u001b[0m\u001b[0;34m.\u001b[0m\u001b[0mSeries\u001b[0m\u001b[0;34m(\u001b[0m\u001b[0msecret_hw\u001b[0m\u001b[0;34m)\u001b[0m\u001b[0;34m,\u001b[0m \u001b[0mmethod\u001b[0m\u001b[0;34m=\u001b[0m\u001b[0;34m'pearson'\u001b[0m\u001b[0;34m)\u001b[0m\u001b[0;34m\u001b[0m\u001b[0;34m\u001b[0m\u001b[0m\n\u001b[1;32m    192\u001b[0m \u001b[0;34m\u001b[0m\u001b[0m\n",
      "\u001b[0;32m/usr/local/lib/python3.8/dist-packages/numpy/lib/function_base.py\u001b[0m in \u001b[0;36m__call__\u001b[0;34m(self, *args, **kwargs)\u001b[0m\n\u001b[1;32m   2089\u001b[0m             \u001b[0mvargs\u001b[0m\u001b[0;34m.\u001b[0m\u001b[0mextend\u001b[0m\u001b[0;34m(\u001b[0m\u001b[0;34m[\u001b[0m\u001b[0mkwargs\u001b[0m\u001b[0;34m[\u001b[0m\u001b[0m_n\u001b[0m\u001b[0;34m]\u001b[0m \u001b[0;32mfor\u001b[0m \u001b[0m_n\u001b[0m \u001b[0;32min\u001b[0m \u001b[0mnames\u001b[0m\u001b[0;34m]\u001b[0m\u001b[0;34m)\u001b[0m\u001b[0;34m\u001b[0m\u001b[0;34m\u001b[0m\u001b[0m\n\u001b[1;32m   2090\u001b[0m \u001b[0;34m\u001b[0m\u001b[0m\n\u001b[0;32m-> 2091\u001b[0;31m         \u001b[0;32mreturn\u001b[0m \u001b[0mself\u001b[0m\u001b[0;34m.\u001b[0m\u001b[0m_vectorize_call\u001b[0m\u001b[0;34m(\u001b[0m\u001b[0mfunc\u001b[0m\u001b[0;34m=\u001b[0m\u001b[0mfunc\u001b[0m\u001b[0;34m,\u001b[0m \u001b[0margs\u001b[0m\u001b[0;34m=\u001b[0m\u001b[0mvargs\u001b[0m\u001b[0;34m)\u001b[0m\u001b[0;34m\u001b[0m\u001b[0;34m\u001b[0m\u001b[0m\n\u001b[0m\u001b[1;32m   2092\u001b[0m \u001b[0;34m\u001b[0m\u001b[0m\n\u001b[1;32m   2093\u001b[0m     \u001b[0;32mdef\u001b[0m \u001b[0m_get_ufunc_and_otypes\u001b[0m\u001b[0;34m(\u001b[0m\u001b[0mself\u001b[0m\u001b[0;34m,\u001b[0m \u001b[0mfunc\u001b[0m\u001b[0;34m,\u001b[0m \u001b[0margs\u001b[0m\u001b[0;34m)\u001b[0m\u001b[0;34m:\u001b[0m\u001b[0;34m\u001b[0m\u001b[0;34m\u001b[0m\u001b[0m\n",
      "\u001b[0;32m/usr/local/lib/python3.8/dist-packages/numpy/lib/function_base.py\u001b[0m in \u001b[0;36m_vectorize_call\u001b[0;34m(self, func, args)\u001b[0m\n\u001b[1;32m   2165\u001b[0m                       for a in args]\n\u001b[1;32m   2166\u001b[0m \u001b[0;34m\u001b[0m\u001b[0m\n\u001b[0;32m-> 2167\u001b[0;31m             \u001b[0moutputs\u001b[0m \u001b[0;34m=\u001b[0m \u001b[0mufunc\u001b[0m\u001b[0;34m(\u001b[0m\u001b[0;34m*\u001b[0m\u001b[0minputs\u001b[0m\u001b[0;34m)\u001b[0m\u001b[0;34m\u001b[0m\u001b[0;34m\u001b[0m\u001b[0m\n\u001b[0m\u001b[1;32m   2168\u001b[0m \u001b[0;34m\u001b[0m\u001b[0m\n\u001b[1;32m   2169\u001b[0m             \u001b[0;32mif\u001b[0m \u001b[0mufunc\u001b[0m\u001b[0;34m.\u001b[0m\u001b[0mnout\u001b[0m \u001b[0;34m==\u001b[0m \u001b[0;36m1\u001b[0m\u001b[0;34m:\u001b[0m\u001b[0;34m\u001b[0m\u001b[0;34m\u001b[0m\u001b[0m\n",
      "\u001b[0;32m~/programming/others/NN-Recovery/pybatina/utils.py\u001b[0m in \u001b[0;36mhamming_weight\u001b[0;34m(f)\u001b[0m\n\u001b[1;32m     37\u001b[0m     \u001b[0;34m:\u001b[0m\u001b[0;32mreturn\u001b[0m\u001b[0;34m:\u001b[0m \u001b[0mthe\u001b[0m \u001b[0mHamming\u001b[0m \u001b[0mweight\u001b[0m\u001b[0;34m\u001b[0m\u001b[0;34m\u001b[0m\u001b[0m\n\u001b[1;32m     38\u001b[0m     \"\"\"\n\u001b[0;32m---> 39\u001b[0;31m     \u001b[0;32mreturn\u001b[0m \u001b[0mfloat_to_bin\u001b[0m\u001b[0;34m(\u001b[0m\u001b[0mf\u001b[0m\u001b[0;34m)\u001b[0m\u001b[0;34m.\u001b[0m\u001b[0mcount\u001b[0m\u001b[0;34m(\u001b[0m\u001b[0;34m'1'\u001b[0m\u001b[0;34m)\u001b[0m\u001b[0;34m\u001b[0m\u001b[0;34m\u001b[0m\u001b[0m\n\u001b[0m",
      "\u001b[0;31mKeyboardInterrupt\u001b[0m: "
     ]
    }
   ],
   "source": [
    "%%time \n",
    "\n",
    "import time\n",
    "\n",
    "for value in secret_numbers:\n",
    "    try:\n",
    "        if value in batina_results[SECRET_VALUE].unique():\n",
    "            continue\n",
    "    except KeyError:\n",
    "        pass\n",
    "    secret_hamming_weight_set = [np.vectorize(hamming_weight)(input_values * value) for input_values in wr.input_value_set]    \n",
    "    start_time = time.time()\n",
    "    s = wr.recover_weight(secret_hamming_weight_set)    \n",
    "    stop_time = time.time()\n",
    "    s.name = CORRELATION\n",
    "    df = pd.DataFrame(s).reset_index().rename(columns={'index': GUESSED_VALUE})\n",
    "    df[TIME] = stop_time - start_time\n",
    "    df[SECRET_VALUE] = value\n",
    "    batina_results = pd.concat([batina_results, df], axis=0, ignore_index=True)"
   ]
  },
  {
   "cell_type": "code",
   "execution_count": 10,
   "metadata": {
    "scrolled": false
   },
   "outputs": [
    {
     "data": {
      "text/html": [
       "<div>\n",
       "<style scoped>\n",
       "    .dataframe tbody tr th:only-of-type {\n",
       "        vertical-align: middle;\n",
       "    }\n",
       "\n",
       "    .dataframe tbody tr th {\n",
       "        vertical-align: top;\n",
       "    }\n",
       "\n",
       "    .dataframe thead th {\n",
       "        text-align: right;\n",
       "    }\n",
       "</style>\n",
       "<table border=\"1\" class=\"dataframe\">\n",
       "  <thead>\n",
       "    <tr style=\"text-align: right;\">\n",
       "      <th></th>\n",
       "      <th>guessed value</th>\n",
       "      <th>correlation</th>\n",
       "      <th>exec. time</th>\n",
       "      <th>secret value</th>\n",
       "    </tr>\n",
       "  </thead>\n",
       "  <tbody>\n",
       "    <tr>\n",
       "      <th>0</th>\n",
       "      <td>-1.381665</td>\n",
       "      <td>1.000000</td>\n",
       "      <td>7.299199</td>\n",
       "      <td>-1.381665</td>\n",
       "    </tr>\n",
       "    <tr>\n",
       "      <th>1</th>\n",
       "      <td>-1.381665</td>\n",
       "      <td>0.954847</td>\n",
       "      <td>7.299199</td>\n",
       "      <td>-1.381665</td>\n",
       "    </tr>\n",
       "    <tr>\n",
       "      <th>2</th>\n",
       "      <td>-1.381665</td>\n",
       "      <td>0.948290</td>\n",
       "      <td>7.299199</td>\n",
       "      <td>-1.381665</td>\n",
       "    </tr>\n",
       "    <tr>\n",
       "      <th>3</th>\n",
       "      <td>-1.381692</td>\n",
       "      <td>0.887819</td>\n",
       "      <td>7.299199</td>\n",
       "      <td>-1.381665</td>\n",
       "    </tr>\n",
       "    <tr>\n",
       "      <th>4</th>\n",
       "      <td>-1.381731</td>\n",
       "      <td>0.858977</td>\n",
       "      <td>7.299199</td>\n",
       "      <td>-1.381665</td>\n",
       "    </tr>\n",
       "    <tr>\n",
       "      <th>...</th>\n",
       "      <td>...</td>\n",
       "      <td>...</td>\n",
       "      <td>...</td>\n",
       "      <td>...</td>\n",
       "    </tr>\n",
       "    <tr>\n",
       "      <th>27035</th>\n",
       "      <td>1.481049</td>\n",
       "      <td>0.860636</td>\n",
       "      <td>7.939768</td>\n",
       "      <td>1.481038</td>\n",
       "    </tr>\n",
       "    <tr>\n",
       "      <th>27036</th>\n",
       "      <td>1.481079</td>\n",
       "      <td>0.835396</td>\n",
       "      <td>7.939768</td>\n",
       "      <td>1.481038</td>\n",
       "    </tr>\n",
       "    <tr>\n",
       "      <th>27037</th>\n",
       "      <td>1.481080</td>\n",
       "      <td>0.835089</td>\n",
       "      <td>7.939768</td>\n",
       "      <td>1.481038</td>\n",
       "    </tr>\n",
       "    <tr>\n",
       "      <th>27038</th>\n",
       "      <td>1.481081</td>\n",
       "      <td>0.834604</td>\n",
       "      <td>7.939768</td>\n",
       "      <td>1.481038</td>\n",
       "    </tr>\n",
       "    <tr>\n",
       "      <th>27039</th>\n",
       "      <td>1.484556</td>\n",
       "      <td>0.800058</td>\n",
       "      <td>7.939768</td>\n",
       "      <td>1.481038</td>\n",
       "    </tr>\n",
       "  </tbody>\n",
       "</table>\n",
       "<p>27040 rows × 4 columns</p>\n",
       "</div>"
      ],
      "text/plain": [
       "       guessed value  correlation  exec. time  secret value\n",
       "0          -1.381665     1.000000    7.299199     -1.381665\n",
       "1          -1.381665     0.954847    7.299199     -1.381665\n",
       "2          -1.381665     0.948290    7.299199     -1.381665\n",
       "3          -1.381692     0.887819    7.299199     -1.381665\n",
       "4          -1.381731     0.858977    7.299199     -1.381665\n",
       "...              ...          ...         ...           ...\n",
       "27035       1.481049     0.860636    7.939768      1.481038\n",
       "27036       1.481079     0.835396    7.939768      1.481038\n",
       "27037       1.481080     0.835089    7.939768      1.481038\n",
       "27038       1.481081     0.834604    7.939768      1.481038\n",
       "27039       1.484556     0.800058    7.939768      1.481038\n",
       "\n",
       "[27040 rows x 4 columns]"
      ]
     },
     "execution_count": 10,
     "metadata": {},
     "output_type": "execute_result"
    }
   ],
   "source": [
    "batina_results"
   ]
  },
  {
   "cell_type": "markdown",
   "metadata": {},
   "source": [
    "### merge and save DB"
   ]
  },
  {
   "cell_type": "code",
   "execution_count": 11,
   "metadata": {},
   "outputs": [
    {
     "name": "stdout",
     "output_type": "stream",
     "text": [
      "number of weight values 2704\n",
      "save results in ./results/advanced_results_070808_10.csv\n"
     ]
    }
   ],
   "source": [
    "print('number of weight values', len(batina_results[SECRET_VALUE].unique()))\n",
    "batina_results.to_csv(fname)\n",
    "print('save results in %s' % fname)"
   ]
  },
  {
   "cell_type": "markdown",
   "metadata": {},
   "source": [
    "### Statistics"
   ]
  },
  {
   "cell_type": "code",
   "execution_count": 12,
   "metadata": {},
   "outputs": [
    {
     "data": {
      "text/plain": [
       "True     2688\n",
       "False      16\n",
       "Name: error, dtype: int64"
      ]
     },
     "execution_count": 12,
     "metadata": {},
     "output_type": "execute_result"
    }
   ],
   "source": [
    "batina_best_corr, batina_best_err = statistics(batina_results)\n",
    "study_score = batina_best_corr\n",
    "study_scoreT = study_score.T\n",
    "(study_scoreT[ERROR] < precision).value_counts()"
   ]
  },
  {
   "cell_type": "code",
   "execution_count": 13,
   "metadata": {},
   "outputs": [
    {
     "data": {
      "text/html": [
       "<div>\n",
       "<style scoped>\n",
       "    .dataframe tbody tr th:only-of-type {\n",
       "        vertical-align: middle;\n",
       "    }\n",
       "\n",
       "    .dataframe tbody tr th {\n",
       "        vertical-align: top;\n",
       "    }\n",
       "\n",
       "    .dataframe thead th {\n",
       "        text-align: right;\n",
       "    }\n",
       "</style>\n",
       "<table border=\"1\" class=\"dataframe\">\n",
       "  <thead>\n",
       "    <tr style=\"text-align: right;\">\n",
       "      <th></th>\n",
       "      <th>secret value</th>\n",
       "      <th>guessed value</th>\n",
       "      <th>correlation</th>\n",
       "      <th>exec. time</th>\n",
       "      <th>error</th>\n",
       "    </tr>\n",
       "  </thead>\n",
       "  <tbody>\n",
       "    <tr>\n",
       "      <th>8130</th>\n",
       "      <td>-0.249960</td>\n",
       "      <td>-0.125008</td>\n",
       "      <td>0.532438</td>\n",
       "      <td>7.107688</td>\n",
       "      <td>0.499890</td>\n",
       "    </tr>\n",
       "    <tr>\n",
       "      <th>16970</th>\n",
       "      <td>3.999060</td>\n",
       "      <td>2.000122</td>\n",
       "      <td>0.509969</td>\n",
       "      <td>6.996436</td>\n",
       "      <td>0.499852</td>\n",
       "    </tr>\n",
       "    <tr>\n",
       "      <th>20230</th>\n",
       "      <td>0.249875</td>\n",
       "      <td>0.125122</td>\n",
       "      <td>0.393083</td>\n",
       "      <td>7.449104</td>\n",
       "      <td>0.499262</td>\n",
       "    </tr>\n",
       "    <tr>\n",
       "      <th>23600</th>\n",
       "      <td>2.810059</td>\n",
       "      <td>3.843760</td>\n",
       "      <td>0.661705</td>\n",
       "      <td>7.332867</td>\n",
       "      <td>0.367858</td>\n",
       "    </tr>\n",
       "    <tr>\n",
       "      <th>13810</th>\n",
       "      <td>-0.187517</td>\n",
       "      <td>-0.125183</td>\n",
       "      <td>0.912076</td>\n",
       "      <td>7.222369</td>\n",
       "      <td>0.332418</td>\n",
       "    </tr>\n",
       "    <tr>\n",
       "      <th>22220</th>\n",
       "      <td>3.062365</td>\n",
       "      <td>3.991371</td>\n",
       "      <td>0.798509</td>\n",
       "      <td>7.316064</td>\n",
       "      <td>0.303362</td>\n",
       "    </tr>\n",
       "    <tr>\n",
       "      <th>15690</th>\n",
       "      <td>0.750264</td>\n",
       "      <td>0.540131</td>\n",
       "      <td>0.911797</td>\n",
       "      <td>7.004001</td>\n",
       "      <td>0.280079</td>\n",
       "    </tr>\n",
       "    <tr>\n",
       "      <th>3840</th>\n",
       "      <td>0.171879</td>\n",
       "      <td>0.125336</td>\n",
       "      <td>0.978064</td>\n",
       "      <td>7.085724</td>\n",
       "      <td>0.270790</td>\n",
       "    </tr>\n",
       "    <tr>\n",
       "      <th>23520</th>\n",
       "      <td>-2.500255</td>\n",
       "      <td>-2.094971</td>\n",
       "      <td>0.693573</td>\n",
       "      <td>7.340089</td>\n",
       "      <td>0.162097</td>\n",
       "    </tr>\n",
       "    <tr>\n",
       "      <th>20980</th>\n",
       "      <td>-0.009064</td>\n",
       "      <td>-0.008096</td>\n",
       "      <td>0.869973</td>\n",
       "      <td>7.362412</td>\n",
       "      <td>0.106798</td>\n",
       "    </tr>\n",
       "    <tr>\n",
       "      <th>23850</th>\n",
       "      <td>0.234318</td>\n",
       "      <td>0.249092</td>\n",
       "      <td>0.505340</td>\n",
       "      <td>7.333535</td>\n",
       "      <td>0.063050</td>\n",
       "    </tr>\n",
       "    <tr>\n",
       "      <th>15290</th>\n",
       "      <td>0.932619</td>\n",
       "      <td>0.983155</td>\n",
       "      <td>0.724988</td>\n",
       "      <td>7.023552</td>\n",
       "      <td>0.054187</td>\n",
       "    </tr>\n",
       "    <tr>\n",
       "      <th>22360</th>\n",
       "      <td>0.429138</td>\n",
       "      <td>0.433103</td>\n",
       "      <td>0.726490</td>\n",
       "      <td>7.341165</td>\n",
       "      <td>0.009239</td>\n",
       "    </tr>\n",
       "    <tr>\n",
       "      <th>22330</th>\n",
       "      <td>-3.425657</td>\n",
       "      <td>-3.405254</td>\n",
       "      <td>0.866542</td>\n",
       "      <td>7.317800</td>\n",
       "      <td>0.005956</td>\n",
       "    </tr>\n",
       "    <tr>\n",
       "      <th>13190</th>\n",
       "      <td>-0.150146</td>\n",
       "      <td>-0.150784</td>\n",
       "      <td>0.451592</td>\n",
       "      <td>7.479348</td>\n",
       "      <td>0.004243</td>\n",
       "    </tr>\n",
       "    <tr>\n",
       "      <th>22240</th>\n",
       "      <td>-0.937042</td>\n",
       "      <td>-0.933565</td>\n",
       "      <td>0.607859</td>\n",
       "      <td>7.342357</td>\n",
       "      <td>0.003710</td>\n",
       "    </tr>\n",
       "  </tbody>\n",
       "</table>\n",
       "</div>"
      ],
      "text/plain": [
       "       secret value  guessed value  correlation  exec. time     error\n",
       "8130      -0.249960      -0.125008     0.532438    7.107688  0.499890\n",
       "16970      3.999060       2.000122     0.509969    6.996436  0.499852\n",
       "20230      0.249875       0.125122     0.393083    7.449104  0.499262\n",
       "23600      2.810059       3.843760     0.661705    7.332867  0.367858\n",
       "13810     -0.187517      -0.125183     0.912076    7.222369  0.332418\n",
       "22220      3.062365       3.991371     0.798509    7.316064  0.303362\n",
       "15690      0.750264       0.540131     0.911797    7.004001  0.280079\n",
       "3840       0.171879       0.125336     0.978064    7.085724  0.270790\n",
       "23520     -2.500255      -2.094971     0.693573    7.340089  0.162097\n",
       "20980     -0.009064      -0.008096     0.869973    7.362412  0.106798\n",
       "23850      0.234318       0.249092     0.505340    7.333535  0.063050\n",
       "15290      0.932619       0.983155     0.724988    7.023552  0.054187\n",
       "22360      0.429138       0.433103     0.726490    7.341165  0.009239\n",
       "22330     -3.425657      -3.405254     0.866542    7.317800  0.005956\n",
       "13190     -0.150146      -0.150784     0.451592    7.479348  0.004243\n",
       "22240     -0.937042      -0.933565     0.607859    7.342357  0.003710"
      ]
     },
     "execution_count": 13,
     "metadata": {},
     "output_type": "execute_result"
    }
   ],
   "source": [
    "error_sorted = study_scoreT[(study_scoreT[ERROR] >= precision)].sort_values(ERROR, ascending=False)\n",
    "error_sorted"
   ]
  },
  {
   "cell_type": "code",
   "execution_count": 18,
   "metadata": {},
   "outputs": [
    {
     "name": "stdout",
     "output_type": "stream",
     "text": [
      "3.999059677124024\n"
     ]
    }
   ],
   "source": [
    "if error_sorted.shape[0] > 0:\n",
    "    print(error_sorted.iloc[1][SECRET_VALUE])"
   ]
  },
  {
   "cell_type": "code",
   "execution_count": 15,
   "metadata": {
    "scrolled": false
   },
   "outputs": [
    {
     "name": "stdout",
     "output_type": "stream",
     "text": [
      "save results in ./results/advanced_batina_graphs.jpg\n"
     ]
    },
    {
     "data": {
      "image/png": "[encoded data removed]",
      "text/plain": [
       "<Figure size 1080x1296 with 3 Axes>"
      ]
     },
     "metadata": {
      "needs_background": "light"
     },
     "output_type": "display_data"
    }
   ],
   "source": [
    "from matplotlib import pyplot as plt\n",
    "\n",
    "fig, ax = plt.subplots(nrows=3, ncols=1, figsize=(15, 18))\n",
    "df = batina_best_corr.T\n",
    "df[[GUESSED_VALUE, SECRET_VALUE]].set_index(SECRET_VALUE)[GUESSED_VALUE].plot(ax=ax[0], marker='.', label='guessed values (without noise)')\n",
    "ax[0].plot(guess_range, guess_range, linewidth=1, label='ideal', color='red')\n",
    "ax[0].plot([guess_range[1], guess_range[0]], guess_range, linewidth=1, label='sign error', color='yellow')\n",
    "ax[0].set_ylim(np.min(guess_range), np.max(guess_range))\n",
    "\n",
    "ax[0].set_ylabel('Guessed values')\n",
    "ax[0].set_title('Guessed values (Batina, best corr)')\n",
    "\n",
    "df = batina_best_corr.T\n",
    "df[[ERROR, SECRET_VALUE]].set_index(SECRET_VALUE)[ERROR].plot(ax=ax[1], marker='.', label='errors (without noise)')\n",
    "ax[1].set_ylabel('Error')\n",
    "ax[1].set_title('Guess Error (Batina, best corr)')\n",
    "\n",
    "df = batina_best_corr.T\n",
    "df[[CORRELATION, SECRET_VALUE]].set_index(SECRET_VALUE)[CORRELATION].plot(ax=ax[2], marker='.', label='correlations (without noise)')\n",
    "ax[2].set_ylabel('Correlation')\n",
    "ax[2].set_title('Correlation (Batina, best corr)')\n",
    "\n",
    "for a in ax:\n",
    "    a.legend()\n",
    "    a.grid(True)\n",
    "    a.set_xlabel('secret values')\n",
    "    a.set_xlim(np.min(guess_range), np.max(guess_range))\n",
    "\n",
    "from os import path\n",
    "fig_fname = path.join(TEST_RESULT_DIR, 'advanced_batina_graphs.jpg')\n",
    "plt.savefig(fig_fname)\n",
    "print('save results in %s' % fig_fname)\n",
    "plt.show()"
   ]
  },
  {
   "cell_type": "code",
   "execution_count": null,
   "metadata": {},
   "outputs": [],
   "source": []
  },
  {
   "cell_type": "code",
   "execution_count": null,
   "metadata": {},
   "outputs": [],
   "source": []
  }
 ],
 "metadata": {
  "kernelspec": {
   "display_name": "Python 3",
   "language": "python",
   "name": "python3"
  },
  "language_info": {
   "codemirror_mode": {
    "name": "ipython",
    "version": 3
   },
   "file_extension": ".py",
   "mimetype": "text/x-python",
   "name": "python",
   "nbconvert_exporter": "python",
   "pygments_lexer": "ipython3",
   "version": "3.8.2"
  }
 },
 "nbformat": 4,
 "nbformat_minor": 4
}
