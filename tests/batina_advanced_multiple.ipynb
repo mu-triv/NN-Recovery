{
 "cells": [
  {
   "cell_type": "markdown",
   "metadata": {},
   "source": [
    "# Batina Advanced Weight Recovery\n",
    "\n",
    "This notebook demonstrates how to guess a floating number using Hamming Weight model.\n",
    "\n",
    "We generate a random secret floating number. Then we use hamming weight model to guess the number."
   ]
  },
  {
   "cell_type": "code",
   "execution_count": 1,
   "metadata": {},
   "outputs": [],
   "source": [
    "import pathlib\n",
    "TEST_RESULT_DIR = './results'\n",
    "\n",
    "pathlib.Path(TEST_RESULT_DIR).mkdir(parents=True, exist_ok=True) "
   ]
  },
  {
   "cell_type": "code",
   "execution_count": 2,
   "metadata": {},
   "outputs": [],
   "source": [
    "import sys\n",
    "sys.path.append(\"../\")\n",
    "\n",
    "from pybatina.utils import *\n",
    "from pybatina.advanced_weight_recovery import *"
   ]
  },
  {
   "cell_type": "code",
   "execution_count": 3,
   "metadata": {},
   "outputs": [],
   "source": [
    "guess_range=(-5.0, 5.0)"
   ]
  },
  {
   "cell_type": "markdown",
   "metadata": {},
   "source": [
    "## Recover multiple secret numbers"
   ]
  },
  {
   "cell_type": "code",
   "execution_count": 4,
   "metadata": {},
   "outputs": [],
   "source": [
    "SECRET_VALUE='secret value'\n",
    "GUESSED_VALUE = 'guessed value'\n",
    "CORRELATION='correlation'\n",
    "df_index = [SECRET_VALUE, GUESSED_VALUE, CORRELATION]"
   ]
  },
  {
   "cell_type": "code",
   "execution_count": 5,
   "metadata": {},
   "outputs": [
    {
     "name": "stdout",
     "output_type": "stream",
     "text": [
      "secret_numbers.shape = (5000,)\n"
     ]
    }
   ],
   "source": [
    "precision = 1e-3\n",
    "n_secret_numbers = 5000\n",
    "secret_numbers = np.concatenate((\n",
    "    np.random.uniform(guess_range[0], guess_range[1], int(n_secret_numbers*2/4) ),\n",
    "    np.random.uniform(guess_range[0]*3e-1, guess_range[1]*3e-1, int(n_secret_numbers*1/4)),\n",
    "    np.random.uniform(guess_range[0]*1e-1, guess_range[1]*1e-1, int(n_secret_numbers*1/4))\n",
    ")).astype(np.float32)\n",
    "np.random.shuffle(secret_numbers)\n",
    "print('secret_numbers.shape = %s' % (str(secret_numbers.shape)))"
   ]
  },
  {
   "cell_type": "markdown",
   "metadata": {},
   "source": [
    "## Batina without noise"
   ]
  },
  {
   "cell_type": "markdown",
   "metadata": {},
   "source": [
    "### load existing DB"
   ]
  },
  {
   "cell_type": "code",
   "execution_count": 6,
   "metadata": {},
   "outputs": [
    {
     "name": "stdout",
     "output_type": "stream",
     "text": [
      "read results in ./results/advaced_batina_results.csv\n",
      "number of weight values 596\n"
     ]
    }
   ],
   "source": [
    "# read the existing data\n",
    "from os import path\n",
    "try:\n",
    "    fname = path.join(TEST_RESULT_DIR, 'advaced_batina_results.csv')\n",
    "    last_df = pd.read_csv(fname, index_col=0)\n",
    "    print('read results in %s' % fname)\n",
    "    print('number of weight values', len(last_df[SECRET_VALUE].unique()))\n",
    "except FileNotFoundError:\n",
    "    last_df = pd.DataFrame()\n",
    "    pass\n",
    "\n",
    "#last_df = pd.DataFrame()\n",
    "batina_results = last_df"
   ]
  },
  {
   "cell_type": "markdown",
   "metadata": {},
   "source": [
    "### main process"
   ]
  },
  {
   "cell_type": "code",
   "execution_count": 7,
   "metadata": {
    "scrolled": true
   },
   "outputs": [
    {
     "name": "stderr",
     "output_type": "stream",
     "text": [
      "<timed exec>:9: RuntimeWarning: overflow encountered in multiply\n",
      "/usr/local/lib/python3.8/dist-packages/numpy/lib/function_base.py:2167: RuntimeWarning: invalid value encountered in ? (vectorized)\n",
      "  outputs = ufunc(*inputs)\n",
      "../pybatina/advanced_weight_recovery.py:179: RuntimeWarning: invalid value encountered in greater_equal\n",
      "  guess_numbers = guess_numbers[np.where(np.logical_and(guess_numbers >= self.guess_range[0], guess_numbers <= self.guess_range[1]))]\n",
      "../pybatina/advanced_weight_recovery.py:179: RuntimeWarning: invalid value encountered in less_equal\n",
      "  guess_numbers = guess_numbers[np.where(np.logical_and(guess_numbers >= self.guess_range[0], guess_numbers <= self.guess_range[1]))]\n",
      "/usr/local/lib/python3.8/dist-packages/numpy/lib/function_base.py:2167: RuntimeWarning: overflow encountered in ? (vectorized)\n",
      "  outputs = ufunc(*inputs)\n"
     ]
    },
    {
     "ename": "KeyboardInterrupt",
     "evalue": "",
     "output_type": "error",
     "traceback": [
      "\u001b[0;31m---------------------------------------------------------------------------\u001b[0m",
      "\u001b[0;31mKeyboardInterrupt\u001b[0m                         Traceback (most recent call last)",
      "\u001b[0;32m<timed exec>\u001b[0m in \u001b[0;36m<module>\u001b[0;34m\u001b[0m\n",
      "\u001b[0;32m~/programming/others/NN-Recovery/pybatina/advanced_weight_recovery.py\u001b[0m in \u001b[0;36mrecover_weight\u001b[0;34m(self, secret_hamming_weight_set)\u001b[0m\n\u001b[1;32m    169\u001b[0m             \u001b[0;32mif\u001b[0m \u001b[0mlen\u001b[0m\u001b[0;34m(\u001b[0m\u001b[0msecret_hw\u001b[0m\u001b[0;34m)\u001b[0m \u001b[0;34m!=\u001b[0m \u001b[0mlen\u001b[0m\u001b[0;34m(\u001b[0m\u001b[0mknown_inputs\u001b[0m\u001b[0;34m)\u001b[0m\u001b[0;34m:\u001b[0m\u001b[0;34m\u001b[0m\u001b[0;34m\u001b[0m\u001b[0m\n\u001b[1;32m    170\u001b[0m                 \u001b[0;32mraise\u001b[0m \u001b[0mValueError\u001b[0m\u001b[0;34m(\u001b[0m\u001b[0;34m'#%d: size of secret_hw does not match size of known_inputs (%d, %d)'\u001b[0m \u001b[0;34m%\u001b[0m \u001b[0;34m(\u001b[0m\u001b[0mset_idx\u001b[0m\u001b[0;34m,\u001b[0m \u001b[0mlen\u001b[0m\u001b[0;34m(\u001b[0m\u001b[0msecret_hw\u001b[0m\u001b[0;34m)\u001b[0m\u001b[0;34m,\u001b[0m \u001b[0mlen\u001b[0m\u001b[0;34m(\u001b[0m\u001b[0mknown_inputs\u001b[0m\u001b[0;34m)\u001b[0m\u001b[0;34m)\u001b[0m\u001b[0;34m)\u001b[0m\u001b[0;34m\u001b[0m\u001b[0;34m\u001b[0m\u001b[0m\n\u001b[0;32m--> 171\u001b[0;31m             \u001b[0mmantissa_corr\u001b[0m \u001b[0;34m=\u001b[0m \u001b[0mAdvancedWeightRecovery\u001b[0m\u001b[0;34m.\u001b[0m\u001b[0mcompute_corr_numbers\u001b[0m\u001b[0;34m(\u001b[0m\u001b[0msecret_hw\u001b[0m\u001b[0;34m,\u001b[0m \u001b[0mknown_inputs\u001b[0m\u001b[0;34m,\u001b[0m\u001b[0mguess_numbers\u001b[0m\u001b[0;34m)\u001b[0m\u001b[0;34m.\u001b[0m\u001b[0msort_values\u001b[0m\u001b[0;34m(\u001b[0m\u001b[0mascending\u001b[0m\u001b[0;34m=\u001b[0m\u001b[0;32mFalse\u001b[0m\u001b[0;34m)\u001b[0m\u001b[0;34m.\u001b[0m\u001b[0miloc\u001b[0m\u001b[0;34m[\u001b[0m\u001b[0;34m:\u001b[0m\u001b[0mself\u001b[0m\u001b[0;34m.\u001b[0m\u001b[0mnumber_of_best_candidates\u001b[0m\u001b[0;34m]\u001b[0m\u001b[0;34m\u001b[0m\u001b[0;34m\u001b[0m\u001b[0m\n\u001b[0m\u001b[1;32m    172\u001b[0m             \u001b[0mnumbers\u001b[0m \u001b[0;34m=\u001b[0m \u001b[0mmantissa_corr\u001b[0m\u001b[0;34m.\u001b[0m\u001b[0mindex\u001b[0m\u001b[0;34m\u001b[0m\u001b[0;34m\u001b[0m\u001b[0m\n\u001b[1;32m    173\u001b[0m             \u001b[0;31m#\u001b[0m\u001b[0;34m\u001b[0m\u001b[0;34m\u001b[0m\u001b[0;34m\u001b[0m\u001b[0m\n",
      "\u001b[0;32m~/programming/others/NN-Recovery/pybatina/advanced_weight_recovery.py\u001b[0m in \u001b[0;36mcompute_corr_numbers\u001b[0;34m(secret_hw, known_inputs, guess_numbers)\u001b[0m\n\u001b[1;32m    150\u001b[0m         \"\"\"\n\u001b[1;32m    151\u001b[0m         hw = pd.DataFrame(columns=guess_numbers,\n\u001b[0;32m--> 152\u001b[0;31m                           data=np.vectorize(hamming_weight)(known_inputs.reshape(-1, 1) * guess_numbers))\n\u001b[0m\u001b[1;32m    153\u001b[0m         \u001b[0;32mreturn\u001b[0m \u001b[0mhw\u001b[0m\u001b[0;34m.\u001b[0m\u001b[0mcorrwith\u001b[0m\u001b[0;34m(\u001b[0m\u001b[0mpd\u001b[0m\u001b[0;34m.\u001b[0m\u001b[0mSeries\u001b[0m\u001b[0;34m(\u001b[0m\u001b[0msecret_hw\u001b[0m\u001b[0;34m)\u001b[0m\u001b[0;34m,\u001b[0m \u001b[0mmethod\u001b[0m\u001b[0;34m=\u001b[0m\u001b[0;34m'pearson'\u001b[0m\u001b[0;34m)\u001b[0m\u001b[0;34m\u001b[0m\u001b[0;34m\u001b[0m\u001b[0m\n\u001b[1;32m    154\u001b[0m \u001b[0;34m\u001b[0m\u001b[0m\n",
      "\u001b[0;32m/usr/local/lib/python3.8/dist-packages/numpy/lib/function_base.py\u001b[0m in \u001b[0;36m__call__\u001b[0;34m(self, *args, **kwargs)\u001b[0m\n\u001b[1;32m   2089\u001b[0m             \u001b[0mvargs\u001b[0m\u001b[0;34m.\u001b[0m\u001b[0mextend\u001b[0m\u001b[0;34m(\u001b[0m\u001b[0;34m[\u001b[0m\u001b[0mkwargs\u001b[0m\u001b[0;34m[\u001b[0m\u001b[0m_n\u001b[0m\u001b[0;34m]\u001b[0m \u001b[0;32mfor\u001b[0m \u001b[0m_n\u001b[0m \u001b[0;32min\u001b[0m \u001b[0mnames\u001b[0m\u001b[0;34m]\u001b[0m\u001b[0;34m)\u001b[0m\u001b[0;34m\u001b[0m\u001b[0;34m\u001b[0m\u001b[0m\n\u001b[1;32m   2090\u001b[0m \u001b[0;34m\u001b[0m\u001b[0m\n\u001b[0;32m-> 2091\u001b[0;31m         \u001b[0;32mreturn\u001b[0m \u001b[0mself\u001b[0m\u001b[0;34m.\u001b[0m\u001b[0m_vectorize_call\u001b[0m\u001b[0;34m(\u001b[0m\u001b[0mfunc\u001b[0m\u001b[0;34m=\u001b[0m\u001b[0mfunc\u001b[0m\u001b[0;34m,\u001b[0m \u001b[0margs\u001b[0m\u001b[0;34m=\u001b[0m\u001b[0mvargs\u001b[0m\u001b[0;34m)\u001b[0m\u001b[0;34m\u001b[0m\u001b[0;34m\u001b[0m\u001b[0m\n\u001b[0m\u001b[1;32m   2092\u001b[0m \u001b[0;34m\u001b[0m\u001b[0m\n\u001b[1;32m   2093\u001b[0m     \u001b[0;32mdef\u001b[0m \u001b[0m_get_ufunc_and_otypes\u001b[0m\u001b[0;34m(\u001b[0m\u001b[0mself\u001b[0m\u001b[0;34m,\u001b[0m \u001b[0mfunc\u001b[0m\u001b[0;34m,\u001b[0m \u001b[0margs\u001b[0m\u001b[0;34m)\u001b[0m\u001b[0;34m:\u001b[0m\u001b[0;34m\u001b[0m\u001b[0;34m\u001b[0m\u001b[0m\n",
      "\u001b[0;32m/usr/local/lib/python3.8/dist-packages/numpy/lib/function_base.py\u001b[0m in \u001b[0;36m_vectorize_call\u001b[0;34m(self, func, args)\u001b[0m\n\u001b[1;32m   2165\u001b[0m                       for a in args]\n\u001b[1;32m   2166\u001b[0m \u001b[0;34m\u001b[0m\u001b[0m\n\u001b[0;32m-> 2167\u001b[0;31m             \u001b[0moutputs\u001b[0m \u001b[0;34m=\u001b[0m \u001b[0mufunc\u001b[0m\u001b[0;34m(\u001b[0m\u001b[0;34m*\u001b[0m\u001b[0minputs\u001b[0m\u001b[0;34m)\u001b[0m\u001b[0;34m\u001b[0m\u001b[0;34m\u001b[0m\u001b[0m\n\u001b[0m\u001b[1;32m   2168\u001b[0m \u001b[0;34m\u001b[0m\u001b[0m\n\u001b[1;32m   2169\u001b[0m             \u001b[0;32mif\u001b[0m \u001b[0mufunc\u001b[0m\u001b[0;34m.\u001b[0m\u001b[0mnout\u001b[0m \u001b[0;34m==\u001b[0m \u001b[0;36m1\u001b[0m\u001b[0;34m:\u001b[0m\u001b[0;34m\u001b[0m\u001b[0;34m\u001b[0m\u001b[0m\n",
      "\u001b[0;32m~/programming/others/NN-Recovery/pybatina/utils.py\u001b[0m in \u001b[0;36mhamming_weight\u001b[0;34m(f)\u001b[0m\n\u001b[1;32m     37\u001b[0m     \u001b[0;34m:\u001b[0m\u001b[0;32mreturn\u001b[0m\u001b[0;34m:\u001b[0m \u001b[0mthe\u001b[0m \u001b[0mHamming\u001b[0m \u001b[0mweight\u001b[0m\u001b[0;34m\u001b[0m\u001b[0;34m\u001b[0m\u001b[0m\n\u001b[1;32m     38\u001b[0m     \"\"\"\n\u001b[0;32m---> 39\u001b[0;31m     \u001b[0;32mreturn\u001b[0m \u001b[0mfloat_to_bin\u001b[0m\u001b[0;34m(\u001b[0m\u001b[0mf\u001b[0m\u001b[0;34m)\u001b[0m\u001b[0;34m.\u001b[0m\u001b[0mcount\u001b[0m\u001b[0;34m(\u001b[0m\u001b[0;34m'1'\u001b[0m\u001b[0;34m)\u001b[0m\u001b[0;34m\u001b[0m\u001b[0;34m\u001b[0m\u001b[0m\n\u001b[0m",
      "\u001b[0;32m~/programming/others/NN-Recovery/pybatina/utils.py\u001b[0m in \u001b[0;36mfloat_to_bin\u001b[0;34m(x)\u001b[0m\n\u001b[1;32m     28\u001b[0m     \u001b[0;34m:\u001b[0m\u001b[0;32mreturn\u001b[0m\u001b[0;34m:\u001b[0m \u001b[0mbinary\u001b[0m \u001b[0mstring\u001b[0m\u001b[0;34m\u001b[0m\u001b[0;34m\u001b[0m\u001b[0m\n\u001b[1;32m     29\u001b[0m     \"\"\"\n\u001b[0;32m---> 30\u001b[0;31m     \u001b[0;32mreturn\u001b[0m \u001b[0mbin\u001b[0m\u001b[0;34m(\u001b[0m\u001b[0mfloat_to_int\u001b[0m\u001b[0;34m(\u001b[0m\u001b[0mx\u001b[0m\u001b[0;34m)\u001b[0m\u001b[0;34m)\u001b[0m\u001b[0;34m\u001b[0m\u001b[0;34m\u001b[0m\u001b[0m\n\u001b[0m\u001b[1;32m     31\u001b[0m \u001b[0;34m\u001b[0m\u001b[0m\n\u001b[1;32m     32\u001b[0m \u001b[0;34m\u001b[0m\u001b[0m\n",
      "\u001b[0;32m~/programming/others/NN-Recovery/pybatina/utils.py\u001b[0m in \u001b[0;36mfloat_to_int\u001b[0;34m(f)\u001b[0m\n\u001b[1;32m     19\u001b[0m     \u001b[0;34m:\u001b[0m\u001b[0;32mreturn\u001b[0m\u001b[0;34m:\u001b[0m \u001b[0;36m4\u001b[0m\u001b[0;34m-\u001b[0m\u001b[0mbyte\u001b[0m \u001b[0minteger\u001b[0m\u001b[0;34m\u001b[0m\u001b[0;34m\u001b[0m\u001b[0m\n\u001b[1;32m     20\u001b[0m     \"\"\"\n\u001b[0;32m---> 21\u001b[0;31m     \u001b[0;32mreturn\u001b[0m \u001b[0mstruct\u001b[0m\u001b[0;34m.\u001b[0m\u001b[0munpack\u001b[0m\u001b[0;34m(\u001b[0m\u001b[0;34m'@I'\u001b[0m\u001b[0;34m,\u001b[0m \u001b[0mstruct\u001b[0m\u001b[0;34m.\u001b[0m\u001b[0mpack\u001b[0m\u001b[0;34m(\u001b[0m\u001b[0;34m'@f'\u001b[0m\u001b[0;34m,\u001b[0m \u001b[0mf\u001b[0m\u001b[0;34m)\u001b[0m\u001b[0;34m)\u001b[0m\u001b[0;34m[\u001b[0m\u001b[0;36m0\u001b[0m\u001b[0;34m]\u001b[0m\u001b[0;34m\u001b[0m\u001b[0;34m\u001b[0m\u001b[0m\n\u001b[0m\u001b[1;32m     22\u001b[0m \u001b[0;34m\u001b[0m\u001b[0m\n\u001b[1;32m     23\u001b[0m \u001b[0;34m\u001b[0m\u001b[0m\n",
      "\u001b[0;31mKeyboardInterrupt\u001b[0m: "
     ]
    }
   ],
   "source": [
    "%%time \n",
    "wr = AdvancedWeightRecovery(guess_range=guess_range, number_of_best_candidates=20)\n",
    "for value in secret_numbers:\n",
    "    try:\n",
    "        if value in batina_results[SECRET_VALUE].unique():\n",
    "            continue\n",
    "    except KeyError:\n",
    "        pass\n",
    "        \n",
    "    secret_hamming_weight_set = [np.vectorize(hamming_weight)(input_values * value) for input_values in wr.input_value_set]    \n",
    "    s = wr.recover_weight(secret_hamming_weight_set)    \n",
    "    s.name = CORRELATION\n",
    "    df = pd.DataFrame(s).reset_index().rename(columns={'index': GUESSED_VALUE})\n",
    "    df[SECRET_VALUE] = value\n",
    "    batina_results = pd.concat([batina_results, df], axis=0, ignore_index=True)"
   ]
  },
  {
   "cell_type": "code",
   "execution_count": 8,
   "metadata": {
    "scrolled": true
   },
   "outputs": [
    {
     "data": {
      "text/html": [
       "<div>\n",
       "<style scoped>\n",
       "    .dataframe tbody tr th:only-of-type {\n",
       "        vertical-align: middle;\n",
       "    }\n",
       "\n",
       "    .dataframe tbody tr th {\n",
       "        vertical-align: top;\n",
       "    }\n",
       "\n",
       "    .dataframe thead th {\n",
       "        text-align: right;\n",
       "    }\n",
       "</style>\n",
       "<table border=\"1\" class=\"dataframe\">\n",
       "  <thead>\n",
       "    <tr style=\"text-align: right;\">\n",
       "      <th></th>\n",
       "      <th>guessed value</th>\n",
       "      <th>correlation</th>\n",
       "      <th>secret value</th>\n",
       "    </tr>\n",
       "  </thead>\n",
       "  <tbody>\n",
       "    <tr>\n",
       "      <th>0</th>\n",
       "      <td>-0.294298</td>\n",
       "      <td>1.000000</td>\n",
       "      <td>-0.294298</td>\n",
       "    </tr>\n",
       "    <tr>\n",
       "      <th>1</th>\n",
       "      <td>-0.294298</td>\n",
       "      <td>1.000000</td>\n",
       "      <td>-0.294298</td>\n",
       "    </tr>\n",
       "    <tr>\n",
       "      <th>2</th>\n",
       "      <td>-0.294298</td>\n",
       "      <td>1.000000</td>\n",
       "      <td>-0.294298</td>\n",
       "    </tr>\n",
       "    <tr>\n",
       "      <th>3</th>\n",
       "      <td>-0.294298</td>\n",
       "      <td>0.999404</td>\n",
       "      <td>-0.294298</td>\n",
       "    </tr>\n",
       "    <tr>\n",
       "      <th>4</th>\n",
       "      <td>-0.294298</td>\n",
       "      <td>0.999404</td>\n",
       "      <td>-0.294298</td>\n",
       "    </tr>\n",
       "    <tr>\n",
       "      <th>...</th>\n",
       "      <td>...</td>\n",
       "      <td>...</td>\n",
       "      <td>...</td>\n",
       "    </tr>\n",
       "    <tr>\n",
       "      <th>14332</th>\n",
       "      <td>2.551957</td>\n",
       "      <td>0.994664</td>\n",
       "      <td>2.551955</td>\n",
       "    </tr>\n",
       "    <tr>\n",
       "      <th>14333</th>\n",
       "      <td>-2.551955</td>\n",
       "      <td>0.854277</td>\n",
       "      <td>2.551955</td>\n",
       "    </tr>\n",
       "    <tr>\n",
       "      <th>14334</th>\n",
       "      <td>-2.551955</td>\n",
       "      <td>0.850355</td>\n",
       "      <td>2.551955</td>\n",
       "    </tr>\n",
       "    <tr>\n",
       "      <th>14335</th>\n",
       "      <td>-2.551955</td>\n",
       "      <td>0.850355</td>\n",
       "      <td>2.551955</td>\n",
       "    </tr>\n",
       "    <tr>\n",
       "      <th>14336</th>\n",
       "      <td>-2.551954</td>\n",
       "      <td>0.844104</td>\n",
       "      <td>2.551955</td>\n",
       "    </tr>\n",
       "  </tbody>\n",
       "</table>\n",
       "<p>14337 rows × 3 columns</p>\n",
       "</div>"
      ],
      "text/plain": [
       "       guessed value  correlation  secret value\n",
       "0          -0.294298     1.000000     -0.294298\n",
       "1          -0.294298     1.000000     -0.294298\n",
       "2          -0.294298     1.000000     -0.294298\n",
       "3          -0.294298     0.999404     -0.294298\n",
       "4          -0.294298     0.999404     -0.294298\n",
       "...              ...          ...           ...\n",
       "14332       2.551957     0.994664      2.551955\n",
       "14333      -2.551955     0.854277      2.551955\n",
       "14334      -2.551955     0.850355      2.551955\n",
       "14335      -2.551955     0.850355      2.551955\n",
       "14336      -2.551954     0.844104      2.551955\n",
       "\n",
       "[14337 rows x 3 columns]"
      ]
     },
     "execution_count": 8,
     "metadata": {},
     "output_type": "execute_result"
    }
   ],
   "source": [
    "batina_results"
   ]
  },
  {
   "cell_type": "markdown",
   "metadata": {},
   "source": [
    "### merge and save DB"
   ]
  },
  {
   "cell_type": "code",
   "execution_count": 9,
   "metadata": {},
   "outputs": [
    {
     "name": "stdout",
     "output_type": "stream",
     "text": [
      "number of weight values 613\n",
      "save results in ./results/advaced_batina_results.csv\n"
     ]
    }
   ],
   "source": [
    "print('number of weight values', len(batina_results[SECRET_VALUE].unique()))\n",
    "batina_results.to_csv(fname)\n",
    "print('save results in %s' % fname)"
   ]
  },
  {
   "cell_type": "markdown",
   "metadata": {},
   "source": [
    "### Statistics"
   ]
  },
  {
   "cell_type": "code",
   "execution_count": 10,
   "metadata": {},
   "outputs": [],
   "source": [
    "ERROR = 'error'\n",
    "def statistics(df):\n",
    "    dft = df[[SECRET_VALUE, GUESSED_VALUE, CORRELATION]].astype(dtype=np.float64)\n",
    "    dft[ERROR] = np.abs((dft[GUESSED_VALUE] - dft[SECRET_VALUE])/dft[SECRET_VALUE])    \n",
    "    best_corr = dft.loc[dft.groupby(SECRET_VALUE)[CORRELATION].idxmax()]\n",
    "    best_err = dft.loc[dft.groupby(SECRET_VALUE)[ERROR].idxmin()]\n",
    "    return best_corr.T, best_err.T"
   ]
  },
  {
   "cell_type": "code",
   "execution_count": 11,
   "metadata": {},
   "outputs": [],
   "source": [
    "batina_best_corr, batina_best_err = statistics(batina_results)"
   ]
  },
  {
   "cell_type": "code",
   "execution_count": 12,
   "metadata": {},
   "outputs": [
    {
     "data": {
      "text/plain": [
       "True    613\n",
       "Name: error, dtype: int64"
      ]
     },
     "execution_count": 12,
     "metadata": {},
     "output_type": "execute_result"
    }
   ],
   "source": [
    "study_score = batina_best_corr\n",
    "(study_score.T[ERROR] < 1e-3).value_counts()"
   ]
  },
  {
   "cell_type": "code",
   "execution_count": 13,
   "metadata": {},
   "outputs": [
    {
     "data": {
      "text/html": [
       "<div>\n",
       "<style scoped>\n",
       "    .dataframe tbody tr th:only-of-type {\n",
       "        vertical-align: middle;\n",
       "    }\n",
       "\n",
       "    .dataframe tbody tr th {\n",
       "        vertical-align: top;\n",
       "    }\n",
       "\n",
       "    .dataframe thead th {\n",
       "        text-align: right;\n",
       "    }\n",
       "</style>\n",
       "<table border=\"1\" class=\"dataframe\">\n",
       "  <thead>\n",
       "    <tr style=\"text-align: right;\">\n",
       "      <th></th>\n",
       "      <th>secret value</th>\n",
       "      <th>guessed value</th>\n",
       "      <th>correlation</th>\n",
       "      <th>error</th>\n",
       "    </tr>\n",
       "  </thead>\n",
       "  <tbody>\n",
       "    <tr>\n",
       "      <th>10497</th>\n",
       "      <td>-0.399833</td>\n",
       "      <td>-0.399990</td>\n",
       "      <td>1.000000</td>\n",
       "      <td>3.917662e-04</td>\n",
       "    </tr>\n",
       "    <tr>\n",
       "      <th>2720</th>\n",
       "      <td>0.903020</td>\n",
       "      <td>0.903219</td>\n",
       "      <td>1.000000</td>\n",
       "      <td>2.209878e-04</td>\n",
       "    </tr>\n",
       "    <tr>\n",
       "      <th>11217</th>\n",
       "      <td>0.749821</td>\n",
       "      <td>0.749939</td>\n",
       "      <td>1.000000</td>\n",
       "      <td>1.577118e-04</td>\n",
       "    </tr>\n",
       "    <tr>\n",
       "      <th>4360</th>\n",
       "      <td>-1.156233</td>\n",
       "      <td>-1.156258</td>\n",
       "      <td>0.950793</td>\n",
       "      <td>2.103269e-05</td>\n",
       "    </tr>\n",
       "    <tr>\n",
       "      <th>7099</th>\n",
       "      <td>-0.583337</td>\n",
       "      <td>-0.583349</td>\n",
       "      <td>1.000000</td>\n",
       "      <td>2.064009e-05</td>\n",
       "    </tr>\n",
       "    <tr>\n",
       "      <th>2780</th>\n",
       "      <td>0.295757</td>\n",
       "      <td>0.295759</td>\n",
       "      <td>1.000000</td>\n",
       "      <td>6.449046e-06</td>\n",
       "    </tr>\n",
       "    <tr>\n",
       "      <th>10857</th>\n",
       "      <td>-3.972645</td>\n",
       "      <td>-3.972650</td>\n",
       "      <td>1.000000</td>\n",
       "      <td>1.440362e-06</td>\n",
       "    </tr>\n",
       "    <tr>\n",
       "      <th>3880</th>\n",
       "      <td>2.860775</td>\n",
       "      <td>2.860772</td>\n",
       "      <td>1.000000</td>\n",
       "      <td>1.250108e-06</td>\n",
       "    </tr>\n",
       "    <tr>\n",
       "      <th>12437</th>\n",
       "      <td>-4.113654</td>\n",
       "      <td>-4.113658</td>\n",
       "      <td>1.000000</td>\n",
       "      <td>1.043242e-06</td>\n",
       "    </tr>\n",
       "    <tr>\n",
       "      <th>13917</th>\n",
       "      <td>-1.098231</td>\n",
       "      <td>-1.098232</td>\n",
       "      <td>1.000000</td>\n",
       "      <td>9.769200e-07</td>\n",
       "    </tr>\n",
       "    <tr>\n",
       "      <th>14097</th>\n",
       "      <td>4.470778</td>\n",
       "      <td>4.470782</td>\n",
       "      <td>1.000000</td>\n",
       "      <td>9.599078e-07</td>\n",
       "    </tr>\n",
       "    <tr>\n",
       "      <th>10797</th>\n",
       "      <td>1.004015</td>\n",
       "      <td>1.004014</td>\n",
       "      <td>1.000000</td>\n",
       "      <td>9.498603e-07</td>\n",
       "    </tr>\n",
       "    <tr>\n",
       "      <th>2180</th>\n",
       "      <td>-2.016231</td>\n",
       "      <td>-2.016233</td>\n",
       "      <td>1.000000</td>\n",
       "      <td>9.459972e-07</td>\n",
       "    </tr>\n",
       "    <tr>\n",
       "      <th>12997</th>\n",
       "      <td>-4.101171</td>\n",
       "      <td>-4.101175</td>\n",
       "      <td>1.000000</td>\n",
       "      <td>9.301482e-07</td>\n",
       "    </tr>\n",
       "    <tr>\n",
       "      <th>13737</th>\n",
       "      <td>-0.128380</td>\n",
       "      <td>-0.128380</td>\n",
       "      <td>1.000000</td>\n",
       "      <td>9.285652e-07</td>\n",
       "    </tr>\n",
       "    <tr>\n",
       "      <th>11757</th>\n",
       "      <td>-4.126369</td>\n",
       "      <td>-4.126365</td>\n",
       "      <td>1.000000</td>\n",
       "      <td>9.244683e-07</td>\n",
       "    </tr>\n",
       "    <tr>\n",
       "      <th>1980</th>\n",
       "      <td>1.061549</td>\n",
       "      <td>1.061548</td>\n",
       "      <td>1.000000</td>\n",
       "      <td>8.983803e-07</td>\n",
       "    </tr>\n",
       "    <tr>\n",
       "      <th>600</th>\n",
       "      <td>2.165508</td>\n",
       "      <td>2.165506</td>\n",
       "      <td>1.000000</td>\n",
       "      <td>8.807857e-07</td>\n",
       "    </tr>\n",
       "    <tr>\n",
       "      <th>4480</th>\n",
       "      <td>4.933737</td>\n",
       "      <td>4.933742</td>\n",
       "      <td>1.000000</td>\n",
       "      <td>8.698344e-07</td>\n",
       "    </tr>\n",
       "    <tr>\n",
       "      <th>1180</th>\n",
       "      <td>-1.235676</td>\n",
       "      <td>-1.235675</td>\n",
       "      <td>1.000000</td>\n",
       "      <td>8.682565e-07</td>\n",
       "    </tr>\n",
       "  </tbody>\n",
       "</table>\n",
       "</div>"
      ],
      "text/plain": [
       "       secret value  guessed value  correlation         error\n",
       "10497     -0.399833      -0.399990     1.000000  3.917662e-04\n",
       "2720       0.903020       0.903219     1.000000  2.209878e-04\n",
       "11217      0.749821       0.749939     1.000000  1.577118e-04\n",
       "4360      -1.156233      -1.156258     0.950793  2.103269e-05\n",
       "7099      -0.583337      -0.583349     1.000000  2.064009e-05\n",
       "2780       0.295757       0.295759     1.000000  6.449046e-06\n",
       "10857     -3.972645      -3.972650     1.000000  1.440362e-06\n",
       "3880       2.860775       2.860772     1.000000  1.250108e-06\n",
       "12437     -4.113654      -4.113658     1.000000  1.043242e-06\n",
       "13917     -1.098231      -1.098232     1.000000  9.769200e-07\n",
       "14097      4.470778       4.470782     1.000000  9.599078e-07\n",
       "10797      1.004015       1.004014     1.000000  9.498603e-07\n",
       "2180      -2.016231      -2.016233     1.000000  9.459972e-07\n",
       "12997     -4.101171      -4.101175     1.000000  9.301482e-07\n",
       "13737     -0.128380      -0.128380     1.000000  9.285652e-07\n",
       "11757     -4.126369      -4.126365     1.000000  9.244683e-07\n",
       "1980       1.061549       1.061548     1.000000  8.983803e-07\n",
       "600        2.165508       2.165506     1.000000  8.807857e-07\n",
       "4480       4.933737       4.933742     1.000000  8.698344e-07\n",
       "1180      -1.235676      -1.235675     1.000000  8.682565e-07"
      ]
     },
     "execution_count": 13,
     "metadata": {},
     "output_type": "execute_result"
    }
   ],
   "source": [
    "error_sorted = study_score.T.sort_values(ERROR, ascending=False)\n",
    "error_sorted[:20]"
   ]
  },
  {
   "cell_type": "code",
   "execution_count": 14,
   "metadata": {},
   "outputs": [
    {
     "data": {
      "text/plain": [
       "-0.3998328745365143"
      ]
     },
     "execution_count": 14,
     "metadata": {},
     "output_type": "execute_result"
    }
   ],
   "source": [
    "error_sorted.iloc[0][SECRET_VALUE]"
   ]
  },
  {
   "cell_type": "code",
   "execution_count": 15,
   "metadata": {
    "scrolled": false
   },
   "outputs": [
    {
     "data": {
      "image/png": "[encoded data removed]",
      "text/plain": [
       "<Figure size 1080x1296 with 3 Axes>"
      ]
     },
     "metadata": {
      "needs_background": "light"
     },
     "output_type": "display_data"
    }
   ],
   "source": [
    "from matplotlib import pyplot as plt\n",
    "\n",
    "fig, ax = plt.subplots(nrows=3, ncols=1, figsize=(15, 18))\n",
    "df = batina_best_corr.T\n",
    "df[[GUESSED_VALUE, SECRET_VALUE]].set_index(SECRET_VALUE)[GUESSED_VALUE].plot(ax=ax[0], marker='.', label='without noise')\n",
    "ax[0].plot(guess_range, guess_range, linewidth=1, label='ideal', color='red')\n",
    "ax[0].plot([guess_range[1], guess_range[0]], guess_range, linewidth=1, label='sign error', color='yellow')\n",
    "ax[0].set_ylim(np.min(guess_range), np.max(guess_range))\n",
    "\n",
    "ax[0].set_ylabel('Guessed values')\n",
    "ax[0].set_title('Guessed values (Batina, best corr)')\n",
    "\n",
    "df = batina_best_corr.T\n",
    "df[[ERROR, SECRET_VALUE]].set_index(SECRET_VALUE)[ERROR].plot(ax=ax[1], marker='.', label='without noise')\n",
    "ax[1].set_ylabel('Error')\n",
    "ax[1].set_title('Guess Error (Batina, best corr)')\n",
    "\n",
    "df = batina_best_corr.T\n",
    "df[[CORRELATION, SECRET_VALUE]].set_index(SECRET_VALUE)[CORRELATION].plot(ax=ax[2], marker='.', label='without noise')\n",
    "ax[2].set_ylabel('Correlation')\n",
    "ax[2].set_title('Correlation (Batina, best corr)')\n",
    "\n",
    "for a in ax:\n",
    "    a.legend()\n",
    "    a.grid(True)\n",
    "    a.set_xlabel('secret values')\n",
    "    a.set_xlim(np.min(guess_range), np.max(guess_range))\n",
    "\n",
    "from datetime import datetime\n",
    "from os import path\n",
    "\n",
    "fname = path.join(TEST_RESULT_DIR, \n",
    "                  'hw-%s.jpg' % (datetime.now().strftime(\"%Y%m%d_%H%M%S%f\")))\n",
    "plt.savefig(fname)\n",
    "plt.show()"
   ]
  },
  {
   "cell_type": "code",
   "execution_count": null,
   "metadata": {},
   "outputs": [],
   "source": []
  },
  {
   "cell_type": "code",
   "execution_count": null,
   "metadata": {},
   "outputs": [],
   "source": []
  }
 ],
 "metadata": {
  "kernelspec": {
   "display_name": "Python 3",
   "language": "python",
   "name": "python3"
  },
  "language_info": {
   "codemirror_mode": {
    "name": "ipython",
    "version": 3
   },
   "file_extension": ".py",
   "mimetype": "text/x-python",
   "name": "python",
   "nbconvert_exporter": "python",
   "pygments_lexer": "ipython3",
   "version": "3.8.2"
  }
 },
 "nbformat": 4,
 "nbformat_minor": 4
}
