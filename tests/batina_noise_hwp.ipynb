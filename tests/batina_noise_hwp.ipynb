{
 "cells": [
  {
   "cell_type": "markdown",
   "metadata": {},
   "source": [
    "# Hamming weight and Pearson Correlation\n",
    "\n",
    "This notebook demonstrates how to guess a floating number using Hamming Weight model.\n",
    "\n",
    "We generate a random secret floating number. Then we use hamming weight model to guess the number."
   ]
  },
  {
   "cell_type": "code",
   "execution_count": 3,
   "metadata": {},
   "outputs": [],
   "source": [
    "import pathlib\n",
    "TEST_RESULT_DIR = './results'\n",
    "\n",
    "pathlib.Path(TEST_RESULT_DIR).mkdir(parents=True, exist_ok=True) "
   ]
  },
  {
   "cell_type": "code",
   "execution_count": 322,
   "metadata": {},
   "outputs": [
    {
     "name": "stdout",
     "output_type": "stream",
     "text": [
      "secret_number = -0.531028635\n"
     ]
    }
   ],
   "source": [
    "import numpy as np\n",
    "\n",
    "mantissa_nbits = 12\n",
    "guess_range=(-5.0, 5.0)\n",
    "# the number of guess values in the guess range\n",
    "secret_number = np.random.uniform(guess_range[0], guess_range[1]) \n",
    "secret_number = -0.531028635\n",
    "print('secret_number =', secret_number)"
   ]
  },
  {
   "cell_type": "markdown",
   "metadata": {},
   "source": [
    "## Receover the weight number in step-by-step"
   ]
  },
  {
   "cell_type": "code",
   "execution_count": null,
   "metadata": {},
   "outputs": [],
   "source": [
    "import sys\n",
    "sys.path.append(\"../\")\n",
    "\n",
    "from pybatina.weight_recovery import *\n",
    "from pybatina.utils import *"
   ]
  },
  {
   "cell_type": "markdown",
   "metadata": {},
   "source": [
    "### Correlation of mantissa"
   ]
  },
  {
   "cell_type": "code",
   "execution_count": null,
   "metadata": {},
   "outputs": [],
   "source": [
    "guess_numbers = build_guess_values(component='mantissa', mantissa_nbits=mantissa_nbits, guess_range=guess_range)\n",
    "known_inputs = build_input_values(mantissa_nbits=mantissa_nbits, component='mantissa')\n",
    "secret_hw = np.vectorize(hamming_weight)(known_inputs * secret_number)\n",
    "pd.Series(known_inputs).sort_values().reset_index(drop=True).plot(figsize=(15,6), marker='.')"
   ]
  },
  {
   "cell_type": "code",
   "execution_count": null,
   "metadata": {},
   "outputs": [],
   "source": [
    "%%time\n",
    "mantisa_corr = compute_corr_numbers(secret_hw, known_inputs, guess_numbers)"
   ]
  },
  {
   "cell_type": "code",
   "execution_count": null,
   "metadata": {},
   "outputs": [],
   "source": [
    "ax = mantisa_corr.sort_index().plot(figsize=(15,6), label='correlation')\n",
    "ax.vlines(mantisa_corr.idxmax(), mantisa_corr.min(), mantisa_corr.max(), color='green', label='max correlation')\n",
    "ax.vlines(secret_number, mantisa_corr.min(), mantisa_corr.max(), color='red', label='secret value')\n",
    "ax.legend()\n",
    "ax.grid()"
   ]
  },
  {
   "cell_type": "code",
   "execution_count": null,
   "metadata": {},
   "outputs": [],
   "source": [
    "mantisa_corr.sort_values(ascending=False).iloc[:10]"
   ]
  },
  {
   "cell_type": "markdown",
   "metadata": {},
   "source": [
    "### Correlation exponent"
   ]
  },
  {
   "cell_type": "code",
   "execution_count": null,
   "metadata": {},
   "outputs": [],
   "source": [
    "known_inputs = build_input_values(component='exponent')\n",
    "secret_hw = np.vectorize(hamming_weight)(known_inputs * secret_number)\n",
    "guess_numbers = build_guess_values(component='exponent', numbers=mantisa_corr.sort_values(ascending=False).index[:10], guess_range=guess_range)\n",
    "pd.Series(guess_numbers).sort_values().reset_index(drop=True).plot(figsize=(12,6), marker='.')"
   ]
  },
  {
   "cell_type": "code",
   "execution_count": null,
   "metadata": {},
   "outputs": [],
   "source": [
    "%%time\n",
    "mantisa_exp_corr = compute_corr_numbers(secret_hw, known_inputs, guess_numbers)"
   ]
  },
  {
   "cell_type": "code",
   "execution_count": null,
   "metadata": {},
   "outputs": [],
   "source": [
    "ax = mantisa_exp_corr.sort_index().plot(figsize=(15,6), label='correlation')\n",
    "ax.vlines(mantisa_exp_corr.idxmax(), mantisa_exp_corr.min(), mantisa_exp_corr.max(), color='green', label='max correlation')\n",
    "ax.vlines(secret_number, mantisa_exp_corr.min(), mantisa_exp_corr.max(), color='red', label='secret value')\n",
    "ax.legend()\n",
    "ax.grid()"
   ]
  },
  {
   "cell_type": "code",
   "execution_count": null,
   "metadata": {},
   "outputs": [],
   "source": [
    "mantisa_exp_corr.sort_values(ascending=False).iloc[:10]"
   ]
  },
  {
   "cell_type": "markdown",
   "metadata": {},
   "source": [
    "### Correlation sign"
   ]
  },
  {
   "cell_type": "code",
   "execution_count": null,
   "metadata": {},
   "outputs": [],
   "source": [
    "guess_numbers = build_guess_values(component='sign', numbers=mantisa_exp_corr.sort_values(ascending=False).index[:10], guess_range=guess_range)\n",
    "known_inputs = build_input_values(component='sign')\n",
    "secret_hw = np.vectorize(hamming_weight)(known_inputs * secret_number)\n",
    "pd.Series(guess_numbers).sort_values().reset_index(drop=True).plot(figsize=(12,6), marker='^')"
   ]
  },
  {
   "cell_type": "code",
   "execution_count": null,
   "metadata": {},
   "outputs": [],
   "source": [
    "%%time\n",
    "full_number_corr = compute_corr_numbers(secret_hw, known_inputs, guess_numbers)"
   ]
  },
  {
   "cell_type": "code",
   "execution_count": null,
   "metadata": {
    "scrolled": true
   },
   "outputs": [],
   "source": [
    "ax = full_number_corr.sort_index().plot(figsize=(15,6), label='correlation')\n",
    "ax.vlines(full_number_corr.idxmax(), full_number_corr.min(), full_number_corr.max(), color='green', label='max correlation')\n",
    "ax.vlines(secret_number, full_number_corr.min(), full_number_corr.max(), color='red', label='secret value')\n",
    "ax.legend()\n",
    "ax.grid()"
   ]
  },
  {
   "cell_type": "code",
   "execution_count": null,
   "metadata": {},
   "outputs": [],
   "source": [
    "print('Secret value = %f' % secret_number)\n",
    "full_number_corr.sort_values(ascending=False).iloc[:10]"
   ]
  },
  {
   "cell_type": "markdown",
   "metadata": {},
   "source": [
    "## Recover a secret number with helper function"
   ]
  },
  {
   "cell_type": "code",
   "execution_count": null,
   "metadata": {},
   "outputs": [],
   "source": [
    "%%time\n",
    "from weight_recovery_helper import *\n",
    "full_number_corr = batina_recover_weight(secret_number=secret_number, \n",
    "                                         guess_range=guess_range,\n",
    "                                         mantissa_nbits=mantissa_nbits,\n",
    "                                         noise=None)\n",
    "ax = full_number_corr.sort_index().plot(figsize=(15,6), label='correlation')\n",
    "ax.vlines(full_number_corr.idxmax(), full_number_corr.min(), full_number_corr.max(), color='green', label='max correlation')\n",
    "ax.vlines(secret_number, full_number_corr.min(), full_number_corr.max(), color='red', label='secret value')\n",
    "ax.legend()\n",
    "ax.grid()"
   ]
  },
  {
   "cell_type": "code",
   "execution_count": null,
   "metadata": {},
   "outputs": [],
   "source": [
    "print('Secret value = %f' % secret_number)\n",
    "full_number_corr.sort_values(ascending=False).iloc[:10]"
   ]
  },
  {
   "cell_type": "markdown",
   "metadata": {},
   "source": [
    "## Recover multiple secret numbers"
   ]
  },
  {
   "cell_type": "code",
   "execution_count": null,
   "metadata": {},
   "outputs": [],
   "source": [
    "SECRET_VALUE='secret value'\n",
    "GUESSED_VALUE = 'guessed value'\n",
    "CORRELATION='correlation'\n",
    "df_index = [SECRET_VALUE, GUESSED_VALUE, CORRELATION]"
   ]
  },
  {
   "cell_type": "code",
   "execution_count": null,
   "metadata": {},
   "outputs": [],
   "source": [
    "def add_noise_to_signal(signal, snr, freq):\n",
    "    \"\"\"\n",
    "    add noise to the signal\n",
    "    :param signal: signal\n",
    "    :param snr: signal to noise ratio \n",
    "    :param freq: frequency of noise \n",
    "    :return: signal with noise\n",
    "    \"\"\"\n",
    "    sig_max = signal.max()\n",
    "    sig_min = signal.min()\n",
    "    return pd.Series(signal).apply(lambda x: x  +\n",
    "                                   np.average(np.random.normal(0.0, (sig_max-sig_min)/snr, freq)))"
   ]
  },
  {
   "cell_type": "code",
   "execution_count": null,
   "metadata": {},
   "outputs": [],
   "source": [
    "precision = 1e-3\n",
    "n_secret_numbers = 1000\n",
    "secret_numbers = np.concatenate((\n",
    "    np.random.uniform(guess_range[0], guess_range[1], int(n_secret_numbers*2/4) ),\n",
    "    np.random.uniform(guess_range[0]*3e-1, guess_range[1]*3e-1, int(n_secret_numbers*1/4)),\n",
    "    np.random.uniform(guess_range[0]*1e-1, guess_range[1]*1e-1, int(n_secret_numbers*1/4))\n",
    "))\n",
    "np.random.shuffle(secret_numbers)\n",
    "signal_to_noise_ratio = 0.5\n",
    "print('secret_numbers.shape = %s' % (str(secret_numbers.shape)))"
   ]
  },
  {
   "cell_type": "markdown",
   "metadata": {},
   "source": [
    "## Batina without noise"
   ]
  },
  {
   "cell_type": "markdown",
   "metadata": {},
   "source": [
    "### load existing DB"
   ]
  },
  {
   "cell_type": "code",
   "execution_count": null,
   "metadata": {},
   "outputs": [],
   "source": [
    "# read the existing data\n",
    "from os import path\n",
    "try:\n",
    "    fname = path.join(TEST_RESULT_DIR, 'batina_results-%d.csv' % mantissa_nbits)\n",
    "    last_df = pd.read_csv(fname, index_col=0)\n",
    "    print('read results in %s' % fname)\n",
    "    print('number of weight values', len(last_df[SECRET_VALUE].unique()))\n",
    "except FileNotFoundError:\n",
    "    last_df = pd.DataFrame()\n",
    "    pass\n",
    "batina_results = last_df"
   ]
  },
  {
   "cell_type": "markdown",
   "metadata": {},
   "source": [
    "### main process"
   ]
  },
  {
   "cell_type": "code",
   "execution_count": null,
   "metadata": {},
   "outputs": [],
   "source": [
    "%%time \n",
    "for value in secret_numbers:\n",
    "    if value in batina_results[SECRET_VALUE].unique():\n",
    "        continue\n",
    "    s = batina_recover_weight(secret_number=value,\n",
    "                              guess_range=guess_range,\n",
    "                              mantissa_nbits=mantissa_nbits)\n",
    "    s.name = CORRELATION\n",
    "    df = pd.DataFrame(s).reset_index().rename(columns={'index': GUESSED_VALUE})\n",
    "    df[SECRET_VALUE] = value\n",
    "    batina_results = pd.concat([batina_results, df], axis=0, ignore_index=True)"
   ]
  },
  {
   "cell_type": "markdown",
   "metadata": {},
   "source": [
    "### merge and save DB"
   ]
  },
  {
   "cell_type": "code",
   "execution_count": null,
   "metadata": {},
   "outputs": [],
   "source": [
    "print('number of weight values', len(batina_results[SECRET_VALUE].unique()))\n",
    "batina_results.to_csv(fname)\n",
    "print('save results in %s' % fname)"
   ]
  },
  {
   "cell_type": "markdown",
   "metadata": {},
   "source": [
    "## Batina with noise"
   ]
  },
  {
   "cell_type": "markdown",
   "metadata": {},
   "source": [
    "### load existing DB"
   ]
  },
  {
   "cell_type": "code",
   "execution_count": null,
   "metadata": {},
   "outputs": [],
   "source": [
    "# read the existing data\n",
    "from os import path\n",
    "try:\n",
    "    fname = path.join(TEST_RESULT_DIR, 'noise_batina_results-%d.csv' % mantissa_nbits)\n",
    "    last_df = pd.read_csv(fname, index_col=0)\n",
    "    print('read results in %s' % fname)\n",
    "    print('number of weight values', len(last_df[SECRET_VALUE].unique()))\n",
    "except FileNotFoundError:\n",
    "    last_df = pd.DataFrame()\n",
    "    pass\n",
    "noise_batina_results = last_df"
   ]
  },
  {
   "cell_type": "markdown",
   "metadata": {},
   "source": [
    "### main process"
   ]
  },
  {
   "cell_type": "code",
   "execution_count": null,
   "metadata": {},
   "outputs": [],
   "source": [
    "%%time\n",
    "# start guessing... - without noise\n",
    "noise_batina_results = pd.DataFrame(dtype=np.float32, columns=df_index)\n",
    "for value in secret_numbers:\n",
    "    if value in noise_batina_results[SECRET_VALUE].unique():\n",
    "        continue\n",
    "    s = batina_recover_weight(secret_number=value, \n",
    "                              guess_range=guess_range,\n",
    "                              mantissa_nbits=mantissa_nbits,\n",
    "                              noise=(add_noise_to_signal, signal_to_noise_ratio, 200))\n",
    "    s.name = CORRELATION\n",
    "    df = pd.DataFrame(s).reset_index().rename(columns={'index': GUESSED_VALUE})\n",
    "    df[SECRET_VALUE] = value\n",
    "    noise_batina_results = pd.concat([noise_batina_results, df], axis=0, ignore_index=True)"
   ]
  },
  {
   "cell_type": "markdown",
   "metadata": {},
   "source": [
    "### merge and save DB"
   ]
  },
  {
   "cell_type": "code",
   "execution_count": null,
   "metadata": {},
   "outputs": [],
   "source": [
    "print('number of weight values', len(noise_batina_results[SECRET_VALUE].unique()))\n",
    "noise_batina_results.to_csv(fname)\n",
    "print('save results in %s' % fname)"
   ]
  },
  {
   "cell_type": "markdown",
   "metadata": {},
   "source": [
    "### Statistics"
   ]
  },
  {
   "cell_type": "code",
   "execution_count": null,
   "metadata": {},
   "outputs": [],
   "source": [
    "ERROR = 'error'\n",
    "def statistics(df):\n",
    "    dft = df[[SECRET_VALUE, GUESSED_VALUE, CORRELATION]].astype(dtype=np.float64)\n",
    "    dft[ERROR] = np.abs((dft[GUESSED_VALUE] - dft[SECRET_VALUE])/dft[SECRET_VALUE])    \n",
    "    best_corr = dft.loc[dft.groupby(SECRET_VALUE)[CORRELATION].idxmax()]\n",
    "    best_err = dft.loc[dft.groupby(SECRET_VALUE)[ERROR].idxmin()]\n",
    "    return best_corr.T, best_err.T"
   ]
  },
  {
   "cell_type": "code",
   "execution_count": null,
   "metadata": {},
   "outputs": [],
   "source": [
    "batina_best_corr, batina_best_err = statistics(batina_results)\n",
    "noise_batina_best_corr, noise_batina_best_err = statistics(noise_batina_results)"
   ]
  },
  {
   "cell_type": "code",
   "execution_count": null,
   "metadata": {},
   "outputs": [],
   "source": [
    "study_score = batina_best_corr\n",
    "(study_score.T[ERROR] < 1e-3).value_counts()"
   ]
  },
  {
   "cell_type": "code",
   "execution_count": null,
   "metadata": {},
   "outputs": [],
   "source": [
    "error_sorted = study_score.T.sort_values(ERROR, ascending=False)\n",
    "error_sorted[:10]"
   ]
  },
  {
   "cell_type": "code",
   "execution_count": null,
   "metadata": {},
   "outputs": [],
   "source": [
    "error_sorted.iloc[0][SECRET_VALUE]"
   ]
  },
  {
   "cell_type": "code",
   "execution_count": null,
   "metadata": {
    "scrolled": false
   },
   "outputs": [],
   "source": [
    "from matplotlib import pyplot as plt\n",
    "\n",
    "fig, ax = plt.subplots(nrows=3, ncols=1, figsize=(12, 15))\n",
    "df = batina_best_corr.T\n",
    "ax[0].plot(guess_range, guess_range, linewidth=1, label='ideal', color='red')\n",
    "df[[GUESSED_VALUE, SECRET_VALUE]].set_index(SECRET_VALUE)[GUESSED_VALUE].plot(ax=ax[0], marker='.', label='without noise')\n",
    "ax[0].set_ylim(np.min(guess_range), np.max(guess_range))\n",
    "\n",
    "ax[0].set_ylabel('Guessed values')\n",
    "ax[0].set_title('Guessed values (Batina, best corr)')\n",
    "\n",
    "df = batina_best_corr.T\n",
    "df[[ERROR, SECRET_VALUE]].set_index(SECRET_VALUE)[ERROR].plot(ax=ax[1], marker='.', label='without noise')\n",
    "ax[1].set_ylabel('Error')\n",
    "ax[1].set_title('Guess Error (Batina, best corr)')\n",
    "\n",
    "df = batina_best_corr.T\n",
    "df[[CORRELATION, SECRET_VALUE]].set_index(SECRET_VALUE)[CORRELATION].plot(ax=ax[2], marker='.', label='without noise')\n",
    "ax[2].set_ylabel('Correlation')\n",
    "ax[2].set_title('Correlation (Batina, best corr)')\n",
    "\n",
    "for a in ax:\n",
    "    a.legend()\n",
    "    a.grid(True)\n",
    "    a.set_xlabel('secret values')\n",
    "    a.set_xlim(np.min(guess_range), np.max(guess_range))\n",
    "\n",
    "from datetime import datetime\n",
    "from os import path\n",
    "\n",
    "fname = path.join(TEST_RESULT_DIR, \n",
    "                  'hw-%s.jpg' % (datetime.now().strftime(\"%Y%m%d_%H%M%S%f\")))\n",
    "plt.savefig(fname)\n",
    "plt.show()"
   ]
  },
  {
   "cell_type": "code",
   "execution_count": null,
   "metadata": {},
   "outputs": [],
   "source": [
    "from matplotlib import pyplot as plt\n",
    "\n",
    "fig, ax = plt.subplots(nrows=3, ncols=1, figsize=(12, 15))\n",
    "df = batina_best_corr.T\n",
    "df[[GUESSED_VALUE, SECRET_VALUE]].set_index(SECRET_VALUE)[GUESSED_VALUE].plot(ax=ax[0], marker='.', label='without noise')\n",
    "df = noise_batina_best_corr.T\n",
    "ax[0].plot(guess_range, guess_range, linewidth=1, label='ideal', color='red')\n",
    "df[[GUESSED_VALUE, SECRET_VALUE]].set_index(SECRET_VALUE)[GUESSED_VALUE].plot(ax=ax[0], marker='.', label='with noise')\n",
    "ax[0].set_ylabel('Guessed values')\n",
    "ax[0].set_title('Guessed values (Batina, best corr, SNR=%0.2f)' % signal_to_noise_ratio)\n",
    "\n",
    "df = batina_best_corr.T\n",
    "df[[ERROR, SECRET_VALUE]].set_index(SECRET_VALUE)[ERROR].plot(ax=ax[1], marker='.', label='without noise')\n",
    "df = noise_batina_best_corr.T\n",
    "df[[ERROR, SECRET_VALUE]].set_index(SECRET_VALUE)[ERROR].plot(ax=ax[1], marker='.', label='with noise')\n",
    "ax[1].set_ylabel('Error')\n",
    "ax[1].set_title('Guess Error (Batina, best corr, SNR=%0.2f)' % signal_to_noise_ratio)\n",
    "\n",
    "df = batina_best_corr.T\n",
    "df[[CORRELATION, SECRET_VALUE]].set_index(SECRET_VALUE)[CORRELATION].plot(ax=ax[2], marker='.', label='without noise')\n",
    "df = noise_batina_best_corr.T\n",
    "df[[CORRELATION, SECRET_VALUE]].set_index(SECRET_VALUE)[CORRELATION].plot(ax=ax[2], marker='.', label='with noise')\n",
    "ax[2].set_ylabel('Correlation')\n",
    "ax[2].set_title('Correlation (Batina, best corr, SNR=%0.2f)' % signal_to_noise_ratio)\n",
    "\n",
    "for a in ax:\n",
    "    a.legend()\n",
    "    a.grid(True)\n",
    "    a.set_xlabel('secret values')\n",
    "\n",
    "from datetime import datetime\n",
    "from os import path\n",
    "\n",
    "fname = path.join(TEST_RESULT_DIR, \n",
    "                  'nhw-%s.jpg' % (datetime.now().strftime(\"%Y%m%d_%H%M%S%f\")))\n",
    "plt.savefig(fname)\n",
    "plt.show()"
   ]
  },
  {
   "cell_type": "markdown",
   "metadata": {},
   "source": [
    "## New implementation"
   ]
  },
  {
   "cell_type": "code",
   "execution_count": 323,
   "metadata": {},
   "outputs": [],
   "source": [
    "import sys\n",
    "sys.path.append(\"../\")\n",
    "\n",
    "from pybatina.weight_recovery import *\n",
    "from pybatina.utils import *\n",
    "\n",
    "import numpy as np\n",
    "import pandas as pd\n",
    "\n",
    "mantissa_three_bytes = [7, 8, 8]\n",
    "max_mantissa_nbits = np.sum(mantissa_three_bytes)\n",
    "\n",
    "def build_values(component, mantissa_byte_index):\n",
    "    if component == 'mantissa':\n",
    "        assert(mantissa_byte_index < len(mantissa_three_bytes))\n",
    "        sum_nbits = np.sum(mantissa_three_bytes[:mantissa_byte_index + 1])\n",
    "        values = np.left_shift(np.arange(0, 1 << mantissa_three_bytes[mantissa_byte_index]), max_mantissa_nbits - sum_nbits) | np.left_shift(127, max_mantissa_nbits)\n",
    "        retval = np.concatenate((values, values | (1 << 31)))\n",
    "    elif component == 'exponent':\n",
    "        retval = np.left_shift(np.arange(0, 1 << 8), max_mantissa_nbits)\n",
    "    else:\n",
    "        raise ValueError('the component is not supported')\n",
    "    return retval\n",
    "\n",
    "\n",
    "def build_input_values(component, mantissa_byte_index=None):\n",
    "    return np.vectorize(int_to_float)(build_values(component, mantissa_byte_index))\n",
    "\n",
    "\n",
    "def build_guess_values(component, mantissa_byte_index=None, numbers=None):\n",
    "    values = build_values(component, mantissa_byte_index)\n",
    "    if numbers is not None:\n",
    "        if component == 'mantissa':\n",
    "            int_numbers = np.vectorize(float_to_int)(numbers)\n",
    "        elif component == 'exponent':\n",
    "            mask = ~(0xff << max_mantissa_nbits)\n",
    "            int_numbers = np.vectorize(lambda x: float_to_int(x) & mask)(numbers)\n",
    "        else:\n",
    "            raise ValueError('the component is not supported')\n",
    "        values = (values | int_numbers[:, np.newaxis]).reshape(-1)\n",
    "    return np.vectorize(int_to_float)(values)\n"
   ]
  },
  {
   "cell_type": "markdown",
   "metadata": {},
   "source": [
    "### Correlation of mantissa"
   ]
  },
  {
   "cell_type": "code",
   "execution_count": 337,
   "metadata": {},
   "outputs": [
    {
     "name": "stdout",
     "output_type": "stream",
     "text": [
      "CPU times: user 4.47 s, sys: 75.9 ms, total: 4.55 s\n",
      "Wall time: 4.55 s\n"
     ]
    }
   ],
   "source": [
    "%%time\n",
    "number_of_best_candidates = 10\n",
    "\n",
    "numbers = None\n",
    "for mantissa_byte_index in [0, 1, 2]:\n",
    "    guess_numbers = build_guess_values(component='mantissa', mantissa_byte_index=mantissa_byte_index, numbers=numbers)\n",
    "    known_inputs = build_input_values(component='mantissa', mantissa_byte_index=mantissa_byte_index)   \n",
    "    secret_hw = np.vectorize(hamming_weight)(known_inputs * secret_number)\n",
    "    mantisa_corr = compute_corr_numbers(secret_hw, known_inputs, guess_numbers).sort_values(ascending=False)\n",
    "    numbers = mantisa_corr.index[:number_of_best_candidates]"
   ]
  },
  {
   "cell_type": "code",
   "execution_count": 338,
   "metadata": {},
   "outputs": [
    {
     "data": {
      "image/png": "[encoded data removed]",
      "text/plain": [
       "<Figure size 1080x432 with 1 Axes>"
      ]
     },
     "metadata": {
      "needs_background": "light"
     },
     "output_type": "display_data"
    }
   ],
   "source": [
    "ax = mantisa_corr.sort_index().plot(figsize=(15,6), label='correlation')\n",
    "ax.vlines(mantisa_corr.idxmax(), mantisa_corr.min(), mantisa_corr.max(), color='green', label='max correlation')\n",
    "ax.vlines(secret_number, mantisa_corr.min(), mantisa_corr.max(), color='red', label='secret value')\n",
    "ax.legend()\n",
    "ax.grid()"
   ]
  },
  {
   "cell_type": "code",
   "execution_count": 339,
   "metadata": {},
   "outputs": [
    {
     "data": {
      "text/plain": [
       "-1.062057    0.963762\n",
       "-1.062057    0.963762\n",
       "-1.062057    0.963762\n",
       "-1.062057    0.963762\n",
       "-1.062057    0.963762\n",
       "-1.062057    0.963762\n",
       "-1.062088    0.906525\n",
       "-1.062088    0.906525\n",
       "-1.062088    0.906525\n",
       "-1.062088    0.906525\n",
       "dtype: float64"
      ]
     },
     "execution_count": 339,
     "metadata": {},
     "output_type": "execute_result"
    }
   ],
   "source": [
    "mantisa_corr.iloc[:number_of_best_candidates]"
   ]
  },
  {
   "cell_type": "markdown",
   "metadata": {},
   "source": [
    "### Correlation exponent"
   ]
  },
  {
   "cell_type": "code",
   "execution_count": 340,
   "metadata": {},
   "outputs": [
    {
     "data": {
      "text/plain": [
       "<matplotlib.axes._subplots.AxesSubplot at 0x7ff12b1aefd0>"
      ]
     },
     "execution_count": 340,
     "metadata": {},
     "output_type": "execute_result"
    },
    {
     "data": {
      "image/png": "[encoded data removed]",
      "text/plain": [
       "<Figure size 864x432 with 1 Axes>"
      ]
     },
     "metadata": {
      "needs_background": "light"
     },
     "output_type": "display_data"
    }
   ],
   "source": [
    "known_inputs = build_input_values(component='exponent')\n",
    "secret_hw = np.vectorize(hamming_weight)(known_inputs * secret_number)\n",
    "guess_numbers = build_guess_values(component='exponent')\n",
    "pd.Series(guess_numbers).sort_values().reset_index(drop=True).plot(figsize=(12,6), marker='.')"
   ]
  },
  {
   "cell_type": "code",
   "execution_count": 341,
   "metadata": {},
   "outputs": [
    {
     "name": "stdout",
     "output_type": "stream",
     "text": [
      "CPU times: user 85.2 ms, sys: 0 ns, total: 85.2 ms\n",
      "Wall time: 84.2 ms\n"
     ]
    },
    {
     "name": "stderr",
     "output_type": "stream",
     "text": [
      "../pybatina/weight_recovery.py:85: RuntimeWarning: invalid value encountered in multiply\n",
      "  data=np.vectorize(hamming_weight)(known_inputs.reshape(-1, 1) * guess_numbers))\n",
      "/usr/local/lib/python3.8/dist-packages/numpy/lib/function_base.py:2167: RuntimeWarning: overflow encountered in ? (vectorized)\n",
      "  outputs = ufunc(*inputs)\n"
     ]
    }
   ],
   "source": [
    "%%time\n",
    "mantisa_exp_corr = compute_corr_numbers(secret_hw, known_inputs, guess_numbers).sort_values(ascending=False)"
   ]
  },
  {
   "cell_type": "code",
   "execution_count": 342,
   "metadata": {},
   "outputs": [
    {
     "data": {
      "image/png": "[encoded data removed]",
      "text/plain": [
       "<Figure size 1080x432 with 1 Axes>"
      ]
     },
     "metadata": {
      "needs_background": "light"
     },
     "output_type": "display_data"
    }
   ],
   "source": [
    "ax = mantisa_exp_corr.sort_index().plot(figsize=(15,6), label='correlation')\n",
    "ax.vlines(mantisa_exp_corr.idxmax(), mantisa_exp_corr.min(), mantisa_exp_corr.max(), color='green', label='max correlation')\n",
    "ax.vlines(secret_number, mantisa_exp_corr.min(), mantisa_exp_corr.max(), color='red', label='secret value')\n",
    "ax.legend()\n",
    "ax.grid()"
   ]
  },
  {
   "cell_type": "code",
   "execution_count": 343,
   "metadata": {},
   "outputs": [
    {
     "name": "stdout",
     "output_type": "stream",
     "text": [
      "secret_number: -0.531028635\n"
     ]
    },
    {
     "data": {
      "text/plain": [
       "5.000000e-01    0.753393\n",
       "2.147484e+09    0.630364\n",
       "9.223372e+18    0.619655\n",
       "1.164153e-10    0.610759\n",
       "3.276800e+04    0.598934\n",
       "7.629395e-06    0.581467\n",
       "2.710505e-20    0.573850\n",
       "3.961408e+28    0.564299\n",
       "1.407375e+14    0.555848\n",
       "1.280000e+02    0.548343\n",
       "dtype: float64"
      ]
     },
     "execution_count": 343,
     "metadata": {},
     "output_type": "execute_result"
    }
   ],
   "source": [
    "print('secret_number:', secret_number)\n",
    "mantisa_exp_corr.iloc[:number_of_best_candidates]"
   ]
  },
  {
   "cell_type": "markdown",
   "metadata": {},
   "source": [
    "### combine"
   ]
  },
  {
   "cell_type": "code",
   "execution_count": 344,
   "metadata": {},
   "outputs": [],
   "source": [
    "int_mantissa = np.vectorize(lambda x: float_to_int(x) & (~(0xff << 23)))(mantisa_corr.index[:number_of_best_candidates])\n",
    "int_exponent = np.vectorize(float_to_int)(mantisa_exp_corr.index[:number_of_best_candidates])\n",
    "int_guess_numbers = (int_mantissa | int_exponent[:, np.newaxis]).reshape(-1)\n",
    "guess_numbers = np.vectorize(int_to_float)(int_guess_numbers)\n",
    "guess_numbers = guess_numbers[np.where(np.logical_and(guess_numbers >= guess_range[0], guess_numbers <= guess_range[1]))]"
   ]
  },
  {
   "cell_type": "code",
   "execution_count": 345,
   "metadata": {},
   "outputs": [
    {
     "data": {
      "text/plain": [
       "array([-5.31028628e-01, -5.31028628e-01, -5.31028628e-01, -5.31028628e-01,\n",
       "       -5.31028628e-01, -5.31028628e-01, -5.31043887e-01, -5.31043887e-01,\n",
       "       -5.31043887e-01, -5.31043887e-01, -1.23639737e-10, -1.23639737e-10,\n",
       "       -1.23639737e-10, -1.23639737e-10, -1.23639737e-10, -1.23639737e-10,\n",
       "       -1.23643290e-10, -1.23643290e-10, -1.23643290e-10, -1.23643290e-10,\n",
       "       -8.10285383e-06, -8.10285383e-06, -8.10285383e-06, -8.10285383e-06,\n",
       "       -8.10285383e-06, -8.10285383e-06, -8.10308666e-06, -8.10308666e-06,\n",
       "       -8.10308666e-06, -8.10308666e-06, -2.87871196e-20, -2.87871196e-20,\n",
       "       -2.87871196e-20, -2.87871196e-20, -2.87871196e-20, -2.87871196e-20,\n",
       "       -2.87879468e-20, -2.87879468e-20, -2.87879468e-20, -2.87879468e-20])"
      ]
     },
     "execution_count": 345,
     "metadata": {},
     "output_type": "execute_result"
    }
   ],
   "source": [
    "guess_numbers"
   ]
  },
  {
   "cell_type": "markdown",
   "metadata": {},
   "source": [
    "### Check"
   ]
  },
  {
   "cell_type": "code",
   "execution_count": 346,
   "metadata": {},
   "outputs": [],
   "source": [
    "known_inputs = np.random.uniform(guess_range[0], guess_range[1], 1000)\n",
    "# known_inputs = build_input_values(component='exponent')\n",
    "secret_hw = np.vectorize(hamming_weight)(known_inputs * secret_number)\n",
    "check_mantisa_corr = compute_corr_numbers(secret_hw, known_inputs=known_inputs, guess_numbers=guess_numbers).sort_values(ascending=False)"
   ]
  },
  {
   "cell_type": "code",
   "execution_count": 347,
   "metadata": {},
   "outputs": [
    {
     "data": {
      "image/png": "[encoded data removed]",
      "text/plain": [
       "<Figure size 1080x432 with 1 Axes>"
      ]
     },
     "metadata": {
      "needs_background": "light"
     },
     "output_type": "display_data"
    }
   ],
   "source": [
    "ax = check_mantisa_corr.sort_index().plot(figsize=(15,6), label='correlation', marker='.')\n",
    "ax.vlines(check_mantisa_corr.idxmax(), check_mantisa_corr.min(), mantisa_corr.max(), color='green', label='max correlation')\n",
    "ax.vlines(secret_number, check_mantisa_corr.min(), check_mantisa_corr.max(), color='red', label='secret value')\n",
    "ax.legend()\n",
    "ax.grid()"
   ]
  },
  {
   "cell_type": "code",
   "execution_count": 348,
   "metadata": {},
   "outputs": [
    {
     "data": {
      "text/plain": [
       "-5.310286e-01    0.988248\n",
       "-5.310286e-01    0.988248\n",
       "-5.310286e-01    0.988248\n",
       "-5.310286e-01    0.988248\n",
       "-5.310286e-01    0.988248\n",
       "-5.310286e-01    0.988248\n",
       "-2.878712e-20    0.983468\n",
       "-2.878712e-20    0.983468\n",
       "-2.878712e-20    0.983468\n",
       "-2.878712e-20    0.983468\n",
       "dtype: float64"
      ]
     },
     "execution_count": 348,
     "metadata": {},
     "output_type": "execute_result"
    }
   ],
   "source": [
    "check_mantisa_corr.iloc[:number_of_best_candidates]"
   ]
  },
  {
   "cell_type": "code",
   "execution_count": 349,
   "metadata": {},
   "outputs": [
    {
     "name": "stdout",
     "output_type": "stream",
     "text": [
      "10111111000001111111000101111110 -0.53102863 21\n",
      "10111111000001111111000101111110 -0.53102863 21\n",
      "10111111000001111111000101111110 -0.53102863 21\n"
     ]
    }
   ],
   "source": [
    "a = check_mantisa_corr.iloc[:number_of_best_candidates]\n",
    "print('{:032b}'.format(float_to_int(secret_number)), '%.08f' % secret_number, hamming_weight(secret_number))\n",
    "idx = 0\n",
    "print('{:032b}'.format(float_to_int(a.index[idx])), '%.08f' % a.index[idx], hamming_weight(a.index[idx]))\n",
    "idx = 3\n",
    "print('{:032b}'.format(float_to_int(a.index[idx])), '%.08f' % a.index[idx], hamming_weight(a.index[idx]))"
   ]
  },
  {
   "cell_type": "code",
   "execution_count": null,
   "metadata": {},
   "outputs": [],
   "source": []
  }
 ],
 "metadata": {
  "kernelspec": {
   "display_name": "Python 3",
   "language": "python",
   "name": "python3"
  },
  "language_info": {
   "codemirror_mode": {
    "name": "ipython",
    "version": 3
   },
   "file_extension": ".py",
   "mimetype": "text/x-python",
   "name": "python",
   "nbconvert_exporter": "python",
   "pygments_lexer": "ipython3",
   "version": "3.8.2"
  }
 },
 "nbformat": 4,
 "nbformat_minor": 4
}
