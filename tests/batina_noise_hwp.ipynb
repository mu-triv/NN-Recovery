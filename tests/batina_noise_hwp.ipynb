{
 "cells": [
  {
   "cell_type": "markdown",
   "metadata": {},
   "source": [
    "# Hamming weight and Pearson Correlation\n",
    "\n",
    "This notebook demonstrates how to guess a floating number using Hamming Weight model.\n",
    "\n",
    "We generate a random secret floating number. Then we use hamming weight model to guess the number."
   ]
  },
  {
   "cell_type": "code",
   "execution_count": 1,
   "metadata": {},
   "outputs": [],
   "source": [
    "import pathlib\n",
    "TEST_RESULT_DIR = './results'\n",
    "\n",
    "pathlib.Path(TEST_RESULT_DIR).mkdir(parents=True, exist_ok=True) "
   ]
  },
  {
   "cell_type": "code",
   "execution_count": 2,
   "metadata": {},
   "outputs": [],
   "source": [
    "import sys\n",
    "sys.path.append(\"../\")\n",
    "\n",
    "from pybatina.weight_recovery import *\n",
    "from pybatina.utils import *"
   ]
  },
  {
   "cell_type": "code",
   "execution_count": 9,
   "metadata": {},
   "outputs": [
    {
     "name": "stdout",
     "output_type": "stream",
     "text": [
      "secret_number = -0.49812132120132446\n"
     ]
    }
   ],
   "source": [
    "import numpy as np\n",
    "\n",
    "mantissa_nbits = 12\n",
    "guess_range=(-5.0, 5.0)\n",
    "# the number of guess values in the guess range\n",
    "secret_number = np.random.uniform(guess_range[0], guess_range[1]) \n",
    "secret_number = -0.498121310\n",
    "secret_number = int_to_float(float_to_int(secret_number))\n",
    "\n",
    "print('secret_number =', secret_number)"
   ]
  },
  {
   "cell_type": "markdown",
   "metadata": {},
   "source": [
    "## Receover the weight number in step-by-step"
   ]
  },
  {
   "cell_type": "markdown",
   "metadata": {},
   "source": [
    "### Correlation of mantissa"
   ]
  },
  {
   "cell_type": "code",
   "execution_count": null,
   "metadata": {},
   "outputs": [],
   "source": [
    "guess_numbers = build_guess_values(component='mantissa', mantissa_nbits=mantissa_nbits, guess_range=guess_range)\n",
    "known_inputs = build_input_values(mantissa_nbits=mantissa_nbits, component='mantissa')\n",
    "secret_hw = np.vectorize(hamming_weight)(known_inputs * secret_number)\n",
    "pd.Series(known_inputs).sort_values().reset_index(drop=True).plot(figsize=(15,6), marker='.')"
   ]
  },
  {
   "cell_type": "code",
   "execution_count": null,
   "metadata": {},
   "outputs": [],
   "source": [
    "%%time\n",
    "mantisa_corr = compute_corr_numbers(secret_hw, known_inputs, guess_numbers)"
   ]
  },
  {
   "cell_type": "code",
   "execution_count": null,
   "metadata": {},
   "outputs": [],
   "source": [
    "ax = mantisa_corr.sort_index().plot(figsize=(15,6), label='correlation')\n",
    "ax.vlines(mantisa_corr.idxmax(), mantisa_corr.min(), mantisa_corr.max(), color='green', label='max correlation')\n",
    "ax.vlines(secret_number, mantisa_corr.min(), mantisa_corr.max(), color='red', label='secret value')\n",
    "ax.legend()\n",
    "ax.grid()"
   ]
  },
  {
   "cell_type": "code",
   "execution_count": null,
   "metadata": {},
   "outputs": [],
   "source": [
    "mantisa_corr.sort_values(ascending=False).iloc[:10]"
   ]
  },
  {
   "cell_type": "markdown",
   "metadata": {},
   "source": [
    "### Correlation exponent"
   ]
  },
  {
   "cell_type": "code",
   "execution_count": null,
   "metadata": {},
   "outputs": [],
   "source": [
    "known_inputs = build_input_values(component='exponent')\n",
    "secret_hw = np.vectorize(hamming_weight)(known_inputs * secret_number)\n",
    "guess_numbers = build_guess_values(component='exponent', numbers=mantisa_corr.sort_values(ascending=False).index[:10], guess_range=guess_range)\n",
    "pd.Series(guess_numbers).sort_values().reset_index(drop=True).plot(figsize=(12,6), marker='.')"
   ]
  },
  {
   "cell_type": "code",
   "execution_count": null,
   "metadata": {},
   "outputs": [],
   "source": [
    "%%time\n",
    "mantisa_exp_corr = compute_corr_numbers(secret_hw, known_inputs, guess_numbers)"
   ]
  },
  {
   "cell_type": "code",
   "execution_count": null,
   "metadata": {},
   "outputs": [],
   "source": [
    "ax = mantisa_exp_corr.sort_index().plot(figsize=(15,6), label='correlation')\n",
    "ax.vlines(mantisa_exp_corr.idxmax(), mantisa_exp_corr.min(), mantisa_exp_corr.max(), color='green', label='max correlation')\n",
    "ax.vlines(secret_number, mantisa_exp_corr.min(), mantisa_exp_corr.max(), color='red', label='secret value')\n",
    "ax.legend()\n",
    "ax.grid()"
   ]
  },
  {
   "cell_type": "code",
   "execution_count": null,
   "metadata": {},
   "outputs": [],
   "source": [
    "mantisa_exp_corr.sort_values(ascending=False).iloc[:10]"
   ]
  },
  {
   "cell_type": "markdown",
   "metadata": {},
   "source": [
    "### Correlation sign"
   ]
  },
  {
   "cell_type": "code",
   "execution_count": null,
   "metadata": {},
   "outputs": [],
   "source": [
    "guess_numbers = build_guess_values(component='sign', numbers=mantisa_exp_corr.sort_values(ascending=False).index[:10], guess_range=guess_range)\n",
    "known_inputs = build_input_values(component='sign')\n",
    "secret_hw = np.vectorize(hamming_weight)(known_inputs * secret_number)\n",
    "pd.Series(guess_numbers).sort_values().reset_index(drop=True).plot(figsize=(12,6), marker='^')"
   ]
  },
  {
   "cell_type": "code",
   "execution_count": null,
   "metadata": {},
   "outputs": [],
   "source": [
    "%%time\n",
    "full_number_corr = compute_corr_numbers(secret_hw, known_inputs, guess_numbers)"
   ]
  },
  {
   "cell_type": "code",
   "execution_count": null,
   "metadata": {
    "scrolled": true
   },
   "outputs": [],
   "source": [
    "ax = full_number_corr.sort_index().plot(figsize=(15,6), label='correlation')\n",
    "ax.vlines(full_number_corr.idxmax(), full_number_corr.min(), full_number_corr.max(), color='green', label='max correlation')\n",
    "ax.vlines(secret_number, full_number_corr.min(), full_number_corr.max(), color='red', label='secret value')\n",
    "ax.legend()\n",
    "ax.grid()"
   ]
  },
  {
   "cell_type": "code",
   "execution_count": null,
   "metadata": {},
   "outputs": [],
   "source": [
    "print('Secret value = %f' % secret_number)\n",
    "full_number_corr.sort_values(ascending=False).iloc[:10]"
   ]
  },
  {
   "cell_type": "markdown",
   "metadata": {},
   "source": [
    "## Recover a secret number with helper function"
   ]
  },
  {
   "cell_type": "code",
   "execution_count": null,
   "metadata": {},
   "outputs": [],
   "source": [
    "%%time\n",
    "from weight_recovery_helper import *\n",
    "full_number_corr = batina_recover_weight(secret_number=secret_number, \n",
    "                                         guess_range=guess_range,\n",
    "                                         mantissa_nbits=mantissa_nbits,\n",
    "                                         noise=None)\n",
    "ax = full_number_corr.sort_index().plot(figsize=(15,6), label='correlation')\n",
    "ax.vlines(full_number_corr.idxmax(), full_number_corr.min(), full_number_corr.max(), color='green', label='max correlation')\n",
    "ax.vlines(secret_number, full_number_corr.min(), full_number_corr.max(), color='red', label='secret value')\n",
    "ax.legend()\n",
    "ax.grid()"
   ]
  },
  {
   "cell_type": "code",
   "execution_count": null,
   "metadata": {},
   "outputs": [],
   "source": [
    "print('Secret value = %f' % secret_number)\n",
    "full_number_corr.sort_values(ascending=False).iloc[:10]"
   ]
  },
  {
   "cell_type": "markdown",
   "metadata": {},
   "source": [
    "## Recover multiple secret numbers"
   ]
  },
  {
   "cell_type": "code",
   "execution_count": null,
   "metadata": {},
   "outputs": [],
   "source": [
    "SECRET_VALUE='secret value'\n",
    "GUESSED_VALUE = 'guessed value'\n",
    "CORRELATION='correlation'\n",
    "df_index = [SECRET_VALUE, GUESSED_VALUE, CORRELATION]"
   ]
  },
  {
   "cell_type": "code",
   "execution_count": null,
   "metadata": {},
   "outputs": [],
   "source": [
    "def add_noise_to_signal(signal, snr, freq):\n",
    "    \"\"\"\n",
    "    add noise to the signal\n",
    "    :param signal: signal\n",
    "    :param snr: signal to noise ratio \n",
    "    :param freq: frequency of noise \n",
    "    :return: signal with noise\n",
    "    \"\"\"\n",
    "    sig_max = signal.max()\n",
    "    sig_min = signal.min()\n",
    "    return pd.Series(signal).apply(lambda x: x  +\n",
    "                                   np.average(np.random.normal(0.0, (sig_max-sig_min)/snr, freq)))"
   ]
  },
  {
   "cell_type": "code",
   "execution_count": null,
   "metadata": {},
   "outputs": [],
   "source": [
    "precision = 1e-3\n",
    "n_secret_numbers = 1000\n",
    "secret_numbers = np.concatenate((\n",
    "    np.random.uniform(guess_range[0], guess_range[1], int(n_secret_numbers*2/4) ),\n",
    "    np.random.uniform(guess_range[0]*3e-1, guess_range[1]*3e-1, int(n_secret_numbers*1/4)),\n",
    "    np.random.uniform(guess_range[0]*1e-1, guess_range[1]*1e-1, int(n_secret_numbers*1/4))\n",
    "))\n",
    "np.random.shuffle(secret_numbers)\n",
    "signal_to_noise_ratio = 0.5\n",
    "print('secret_numbers.shape = %s' % (str(secret_numbers.shape)))"
   ]
  },
  {
   "cell_type": "markdown",
   "metadata": {},
   "source": [
    "## Batina without noise"
   ]
  },
  {
   "cell_type": "markdown",
   "metadata": {},
   "source": [
    "### load existing DB"
   ]
  },
  {
   "cell_type": "code",
   "execution_count": null,
   "metadata": {},
   "outputs": [],
   "source": [
    "# read the existing data\n",
    "from os import path\n",
    "try:\n",
    "    fname = path.join(TEST_RESULT_DIR, 'batina_results-%d.csv' % mantissa_nbits)\n",
    "    last_df = pd.read_csv(fname, index_col=0)\n",
    "    print('read results in %s' % fname)\n",
    "    print('number of weight values', len(last_df[SECRET_VALUE].unique()))\n",
    "except FileNotFoundError:\n",
    "    last_df = pd.DataFrame()\n",
    "    pass\n",
    "batina_results = last_df"
   ]
  },
  {
   "cell_type": "markdown",
   "metadata": {},
   "source": [
    "### main process"
   ]
  },
  {
   "cell_type": "code",
   "execution_count": null,
   "metadata": {},
   "outputs": [],
   "source": [
    "%%time \n",
    "for value in secret_numbers:\n",
    "    if value in batina_results[SECRET_VALUE].unique():\n",
    "        continue\n",
    "    s = batina_recover_weight(secret_number=value,\n",
    "                              guess_range=guess_range,\n",
    "                              mantissa_nbits=mantissa_nbits)\n",
    "    s.name = CORRELATION\n",
    "    df = pd.DataFrame(s).reset_index().rename(columns={'index': GUESSED_VALUE})\n",
    "    df[SECRET_VALUE] = value\n",
    "    batina_results = pd.concat([batina_results, df], axis=0, ignore_index=True)"
   ]
  },
  {
   "cell_type": "markdown",
   "metadata": {},
   "source": [
    "### merge and save DB"
   ]
  },
  {
   "cell_type": "code",
   "execution_count": null,
   "metadata": {},
   "outputs": [],
   "source": [
    "print('number of weight values', len(batina_results[SECRET_VALUE].unique()))\n",
    "batina_results.to_csv(fname)\n",
    "print('save results in %s' % fname)"
   ]
  },
  {
   "cell_type": "markdown",
   "metadata": {},
   "source": [
    "## Batina with noise"
   ]
  },
  {
   "cell_type": "markdown",
   "metadata": {},
   "source": [
    "### load existing DB"
   ]
  },
  {
   "cell_type": "code",
   "execution_count": null,
   "metadata": {},
   "outputs": [],
   "source": [
    "# read the existing data\n",
    "from os import path\n",
    "try:\n",
    "    fname = path.join(TEST_RESULT_DIR, 'noise_batina_results-%d.csv' % mantissa_nbits)\n",
    "    last_df = pd.read_csv(fname, index_col=0)\n",
    "    print('read results in %s' % fname)\n",
    "    print('number of weight values', len(last_df[SECRET_VALUE].unique()))\n",
    "except FileNotFoundError:\n",
    "    last_df = pd.DataFrame()\n",
    "    pass\n",
    "noise_batina_results = last_df"
   ]
  },
  {
   "cell_type": "markdown",
   "metadata": {},
   "source": [
    "### main process"
   ]
  },
  {
   "cell_type": "code",
   "execution_count": null,
   "metadata": {},
   "outputs": [],
   "source": [
    "%%time\n",
    "# start guessing... - without noise\n",
    "noise_batina_results = pd.DataFrame(dtype=np.float32, columns=df_index)\n",
    "for value in secret_numbers:\n",
    "    if value in noise_batina_results[SECRET_VALUE].unique():\n",
    "        continue\n",
    "    s = batina_recover_weight(secret_number=value, \n",
    "                              guess_range=guess_range,\n",
    "                              mantissa_nbits=mantissa_nbits,\n",
    "                              noise=(add_noise_to_signal, signal_to_noise_ratio, 200))\n",
    "    s.name = CORRELATION\n",
    "    df = pd.DataFrame(s).reset_index().rename(columns={'index': GUESSED_VALUE})\n",
    "    df[SECRET_VALUE] = value\n",
    "    noise_batina_results = pd.concat([noise_batina_results, df], axis=0, ignore_index=True)"
   ]
  },
  {
   "cell_type": "markdown",
   "metadata": {},
   "source": [
    "### merge and save DB"
   ]
  },
  {
   "cell_type": "code",
   "execution_count": null,
   "metadata": {},
   "outputs": [],
   "source": [
    "print('number of weight values', len(noise_batina_results[SECRET_VALUE].unique()))\n",
    "noise_batina_results.to_csv(fname)\n",
    "print('save results in %s' % fname)"
   ]
  },
  {
   "cell_type": "markdown",
   "metadata": {},
   "source": [
    "### Statistics"
   ]
  },
  {
   "cell_type": "code",
   "execution_count": null,
   "metadata": {},
   "outputs": [],
   "source": [
    "ERROR = 'error'\n",
    "def statistics(df):\n",
    "    dft = df[[SECRET_VALUE, GUESSED_VALUE, CORRELATION]].astype(dtype=np.float64)\n",
    "    dft[ERROR] = np.abs((dft[GUESSED_VALUE] - dft[SECRET_VALUE])/dft[SECRET_VALUE])    \n",
    "    best_corr = dft.loc[dft.groupby(SECRET_VALUE)[CORRELATION].idxmax()]\n",
    "    best_err = dft.loc[dft.groupby(SECRET_VALUE)[ERROR].idxmin()]\n",
    "    return best_corr.T, best_err.T"
   ]
  },
  {
   "cell_type": "code",
   "execution_count": null,
   "metadata": {},
   "outputs": [],
   "source": [
    "batina_best_corr, batina_best_err = statistics(batina_results)\n",
    "noise_batina_best_corr, noise_batina_best_err = statistics(noise_batina_results)"
   ]
  },
  {
   "cell_type": "code",
   "execution_count": null,
   "metadata": {},
   "outputs": [],
   "source": [
    "study_score = batina_best_corr\n",
    "(study_score.T[ERROR] < 1e-3).value_counts()"
   ]
  },
  {
   "cell_type": "code",
   "execution_count": null,
   "metadata": {},
   "outputs": [],
   "source": [
    "error_sorted = study_score.T.sort_values(ERROR, ascending=False)\n",
    "error_sorted[:10]"
   ]
  },
  {
   "cell_type": "code",
   "execution_count": null,
   "metadata": {},
   "outputs": [],
   "source": [
    "error_sorted.iloc[0][SECRET_VALUE]"
   ]
  },
  {
   "cell_type": "code",
   "execution_count": null,
   "metadata": {
    "scrolled": false
   },
   "outputs": [],
   "source": [
    "from matplotlib import pyplot as plt\n",
    "\n",
    "fig, ax = plt.subplots(nrows=3, ncols=1, figsize=(12, 15))\n",
    "df = batina_best_corr.T\n",
    "ax[0].plot(guess_range, guess_range, linewidth=1, label='ideal', color='red')\n",
    "df[[GUESSED_VALUE, SECRET_VALUE]].set_index(SECRET_VALUE)[GUESSED_VALUE].plot(ax=ax[0], marker='.', label='without noise')\n",
    "ax[0].set_ylim(np.min(guess_range), np.max(guess_range))\n",
    "\n",
    "ax[0].set_ylabel('Guessed values')\n",
    "ax[0].set_title('Guessed values (Batina, best corr)')\n",
    "\n",
    "df = batina_best_corr.T\n",
    "df[[ERROR, SECRET_VALUE]].set_index(SECRET_VALUE)[ERROR].plot(ax=ax[1], marker='.', label='without noise')\n",
    "ax[1].set_ylabel('Error')\n",
    "ax[1].set_title('Guess Error (Batina, best corr)')\n",
    "\n",
    "df = batina_best_corr.T\n",
    "df[[CORRELATION, SECRET_VALUE]].set_index(SECRET_VALUE)[CORRELATION].plot(ax=ax[2], marker='.', label='without noise')\n",
    "ax[2].set_ylabel('Correlation')\n",
    "ax[2].set_title('Correlation (Batina, best corr)')\n",
    "\n",
    "for a in ax:\n",
    "    a.legend()\n",
    "    a.grid(True)\n",
    "    a.set_xlabel('secret values')\n",
    "    a.set_xlim(np.min(guess_range), np.max(guess_range))\n",
    "\n",
    "from datetime import datetime\n",
    "from os import path\n",
    "\n",
    "fname = path.join(TEST_RESULT_DIR, \n",
    "                  'hw-%s.jpg' % (datetime.now().strftime(\"%Y%m%d_%H%M%S%f\")))\n",
    "plt.savefig(fname)\n",
    "plt.show()"
   ]
  },
  {
   "cell_type": "code",
   "execution_count": null,
   "metadata": {},
   "outputs": [],
   "source": [
    "from matplotlib import pyplot as plt\n",
    "\n",
    "fig, ax = plt.subplots(nrows=3, ncols=1, figsize=(12, 15))\n",
    "df = batina_best_corr.T\n",
    "df[[GUESSED_VALUE, SECRET_VALUE]].set_index(SECRET_VALUE)[GUESSED_VALUE].plot(ax=ax[0], marker='.', label='without noise')\n",
    "df = noise_batina_best_corr.T\n",
    "ax[0].plot(guess_range, guess_range, linewidth=1, label='ideal', color='red')\n",
    "df[[GUESSED_VALUE, SECRET_VALUE]].set_index(SECRET_VALUE)[GUESSED_VALUE].plot(ax=ax[0], marker='.', label='with noise')\n",
    "ax[0].set_ylabel('Guessed values')\n",
    "ax[0].set_title('Guessed values (Batina, best corr, SNR=%0.2f)' % signal_to_noise_ratio)\n",
    "\n",
    "df = batina_best_corr.T\n",
    "df[[ERROR, SECRET_VALUE]].set_index(SECRET_VALUE)[ERROR].plot(ax=ax[1], marker='.', label='without noise')\n",
    "df = noise_batina_best_corr.T\n",
    "df[[ERROR, SECRET_VALUE]].set_index(SECRET_VALUE)[ERROR].plot(ax=ax[1], marker='.', label='with noise')\n",
    "ax[1].set_ylabel('Error')\n",
    "ax[1].set_title('Guess Error (Batina, best corr, SNR=%0.2f)' % signal_to_noise_ratio)\n",
    "\n",
    "df = batina_best_corr.T\n",
    "df[[CORRELATION, SECRET_VALUE]].set_index(SECRET_VALUE)[CORRELATION].plot(ax=ax[2], marker='.', label='without noise')\n",
    "df = noise_batina_best_corr.T\n",
    "df[[CORRELATION, SECRET_VALUE]].set_index(SECRET_VALUE)[CORRELATION].plot(ax=ax[2], marker='.', label='with noise')\n",
    "ax[2].set_ylabel('Correlation')\n",
    "ax[2].set_title('Correlation (Batina, best corr, SNR=%0.2f)' % signal_to_noise_ratio)\n",
    "\n",
    "for a in ax:\n",
    "    a.legend()\n",
    "    a.grid(True)\n",
    "    a.set_xlabel('secret values')\n",
    "\n",
    "from datetime import datetime\n",
    "from os import path\n",
    "\n",
    "fname = path.join(TEST_RESULT_DIR, \n",
    "                  'nhw-%s.jpg' % (datetime.now().strftime(\"%Y%m%d_%H%M%S%f\")))\n",
    "plt.savefig(fname)\n",
    "plt.show()"
   ]
  },
  {
   "cell_type": "markdown",
   "metadata": {},
   "source": [
    "## New implementation"
   ]
  },
  {
   "cell_type": "code",
   "execution_count": null,
   "metadata": {},
   "outputs": [],
   "source": [
    "import sys\n",
    "sys.path.append(\"../\")\n",
    "\n",
    "from pybatina.weight_recovery import *\n",
    "from pybatina.utils import *\n",
    "\n",
    "import numpy as np\n",
    "import pandas as pd\n",
    "\n",
    "mantissa_three_bytes = [7, 8, 8]\n",
    "max_mantissa_nbits = np.sum(mantissa_three_bytes)\n",
    "\n",
    "def build_values(component, mantissa_byte_index):\n",
    "    if component == 'mantissa':\n",
    "        assert(mantissa_byte_index < len(mantissa_three_bytes))\n",
    "        sum_nbits = np.sum(mantissa_three_bytes[:mantissa_byte_index + 1])\n",
    "        retval = np.left_shift(np.arange(0, 1 << mantissa_three_bytes[mantissa_byte_index]), max_mantissa_nbits - sum_nbits) | np.left_shift(127, max_mantissa_nbits)\n",
    "    elif component == 'exponent':\n",
    "        retval = np.left_shift(np.arange(0, 1 << 8), max_mantissa_nbits)\n",
    "    else:\n",
    "        raise ValueError('the component is not supported')\n",
    "    return retval\n",
    "\n",
    "\n",
    "def build_input_values(component, mantissa_byte_index=None):\n",
    "    return np.vectorize(int_to_float)(build_values(component, mantissa_byte_index)).astype(np.float32)\n",
    "\n",
    "\n",
    "def build_guess_values(component, mantissa_byte_index=None, numbers=None):\n",
    "    values = build_values(component, mantissa_byte_index)\n",
    "    if numbers is not None:\n",
    "        if component == 'mantissa':\n",
    "            int_numbers = np.vectorize(float_to_int)(numbers)\n",
    "        elif component == 'exponent':\n",
    "            mask = ~(0xff << max_mantissa_nbits)\n",
    "            int_numbers = np.vectorize(lambda x: float_to_int(x) & mask)(numbers)\n",
    "        else:\n",
    "            raise ValueError('the component is not supported')\n",
    "        values = np.unique((values | int_numbers[:, np.newaxis]).reshape(-1))\n",
    "    return np.vectorize(int_to_float)(values).astype(np.float32)\n",
    "\n",
    "\n",
    "def diff_floats(w, xs):\n",
    "    iw = float_to_int(w)\n",
    "    ixs = np.vectorize(float_to_int)(xs)\n",
    "    diff = np.bitwise_xor(ixs, iw)\n",
    "    return iw, ixs, diff"
   ]
  },
  {
   "cell_type": "markdown",
   "metadata": {},
   "source": [
    "### Correlation of mantissa"
   ]
  },
  {
   "cell_type": "code",
   "execution_count": null,
   "metadata": {},
   "outputs": [],
   "source": [
    "%%time\n",
    "number_of_best_candidates = 20\n",
    "\n",
    "numbers = None\n",
    "for mantissa_byte_index in [0, 1, 2]:\n",
    "    guess_numbers = build_guess_values(component='mantissa', mantissa_byte_index=mantissa_byte_index, numbers=numbers)\n",
    "    known_inputs = build_input_values(component='mantissa', mantissa_byte_index=mantissa_byte_index)   \n",
    "    secret_hw = np.vectorize(hamming_weight)(known_inputs * secret_number).astype(np.float32)\n",
    "    mantisa_corr = compute_corr_numbers(secret_hw, known_inputs, guess_numbers).sort_values(ascending=False)\n",
    "    numbers = mantisa_corr.index[:number_of_best_candidates]"
   ]
  },
  {
   "cell_type": "code",
   "execution_count": null,
   "metadata": {},
   "outputs": [],
   "source": [
    "ax = mantisa_corr.sort_index().plot(figsize=(15,6), label='correlation', marker='.')\n",
    "ax.vlines(mantisa_corr.idxmax(), mantisa_corr.min(), mantisa_corr.max(), color='green', label='max correlation')\n",
    "# ax.vlines(secret_number, mantisa_corr.min(), mantisa_corr.max(), color='red', label='secret value')\n",
    "ax.legend()\n",
    "ax.grid()"
   ]
  },
  {
   "cell_type": "code",
   "execution_count": null,
   "metadata": {},
   "outputs": [],
   "source": [
    "mantisa_corr.iloc[:number_of_best_candidates]"
   ]
  },
  {
   "cell_type": "markdown",
   "metadata": {},
   "source": [
    "### Correlation exponent"
   ]
  },
  {
   "cell_type": "code",
   "execution_count": null,
   "metadata": {},
   "outputs": [],
   "source": [
    "known_inputs = build_input_values(component='exponent')\n",
    "secret_hw = np.vectorize(hamming_weight)(known_inputs * secret_number)\n",
    "guess_numbers = build_guess_values(component='exponent')\n",
    "pd.Series(guess_numbers).sort_values().reset_index(drop=True).plot(figsize=(12,6), marker='.')"
   ]
  },
  {
   "cell_type": "code",
   "execution_count": null,
   "metadata": {},
   "outputs": [],
   "source": [
    "%%time\n",
    "mantisa_exp_corr = compute_corr_numbers(secret_hw, known_inputs, guess_numbers).sort_values(ascending=False)"
   ]
  },
  {
   "cell_type": "code",
   "execution_count": null,
   "metadata": {},
   "outputs": [],
   "source": [
    "ax = mantisa_exp_corr.sort_index().plot(figsize=(15,6), label='correlation')\n",
    "ax.vlines(mantisa_exp_corr.idxmax(), mantisa_exp_corr.min(), mantisa_exp_corr.max(), color='green', label='max correlation')\n",
    "# ax.vlines(secret_number, mantisa_exp_corr.min(), mantisa_exp_corr.max(), color='red', label='secret value')\n",
    "ax.legend()\n",
    "ax.grid()"
   ]
  },
  {
   "cell_type": "code",
   "execution_count": null,
   "metadata": {},
   "outputs": [],
   "source": [
    "print('secret_number:', secret_number)\n",
    "mantisa_exp_corr.iloc[:number_of_best_candidates]"
   ]
  },
  {
   "cell_type": "markdown",
   "metadata": {},
   "source": [
    "### combine"
   ]
  },
  {
   "cell_type": "code",
   "execution_count": null,
   "metadata": {},
   "outputs": [],
   "source": [
    "int_mantissa = np.vectorize(lambda x: float_to_int(x) & (~(0xff << 23)))(mantisa_corr.index[:number_of_best_candidates])\n",
    "int_exponent = np.vectorize(float_to_int)(mantisa_exp_corr.index[:number_of_best_candidates])\n",
    "int_guess_numbers = (int_mantissa | int_exponent[:, np.newaxis]).reshape(-1)\n",
    "guess_numbers = np.vectorize(int_to_float)(int_guess_numbers).astype(np.float32)"
   ]
  },
  {
   "cell_type": "code",
   "execution_count": null,
   "metadata": {},
   "outputs": [],
   "source": [
    "guess_numbers = np.concatenate((guess_numbers, -guess_numbers))\n",
    "guess_numbers = guess_numbers[np.where(np.logical_and(guess_numbers >= guess_range[0], guess_numbers <= guess_range[1]))]"
   ]
  },
  {
   "cell_type": "code",
   "execution_count": null,
   "metadata": {},
   "outputs": [],
   "source": [
    "pd.Series(guess_numbers).sort_values().reset_index(drop=True).plot(figsize=(12,6), marker='.')"
   ]
  },
  {
   "cell_type": "markdown",
   "metadata": {},
   "source": [
    "### Check"
   ]
  },
  {
   "cell_type": "code",
   "execution_count": null,
   "metadata": {},
   "outputs": [],
   "source": [
    "r = 1e2\n",
    "known_inputs = np.random.uniform(-1e2, 1e2, 1000)\n",
    "# known_inputs = build_input_values(component='exponent')\n",
    "secret_hw = np.vectorize(hamming_weight)(known_inputs * secret_number)\n",
    "check_mantisa_corr = compute_corr_numbers(secret_hw, known_inputs=known_inputs, guess_numbers=guess_numbers).sort_values(ascending=False)"
   ]
  },
  {
   "cell_type": "code",
   "execution_count": null,
   "metadata": {},
   "outputs": [],
   "source": [
    "ax = check_mantisa_corr.sort_index().plot(figsize=(15,6), label='correlation', marker='.')\n",
    "ax.vlines(check_mantisa_corr.idxmax(), check_mantisa_corr.min(), mantisa_corr.max(), color='green', label='max correlation')\n",
    "ax.vlines(secret_number, check_mantisa_corr.min(), check_mantisa_corr.max(), color='red', label='secret value')\n",
    "ax.legend()\n",
    "ax.grid()"
   ]
  },
  {
   "cell_type": "code",
   "execution_count": null,
   "metadata": {},
   "outputs": [],
   "source": [
    "a = check_mantisa_corr.iloc[:number_of_best_candidates]\n",
    "a"
   ]
  },
  {
   "cell_type": "code",
   "execution_count": null,
   "metadata": {},
   "outputs": [],
   "source": [
    "iw, ixs, diff = diff_floats(secret_number, a.index)"
   ]
  },
  {
   "cell_type": "code",
   "execution_count": null,
   "metadata": {},
   "outputs": [],
   "source": [
    "print('      {:032b}'.format(iw), '%.010f' % secret_number)\n",
    "for i in range(len(ixs)):\n",
    "    s = '{:032b}'.format(diff[i])\n",
    "    print('[%2d]:' % i, s, '%.010f' % a.index[i], s.count('1'))"
   ]
  },
  {
   "cell_type": "code",
   "execution_count": null,
   "metadata": {},
   "outputs": [],
   "source": [
    "for i in build_input_values('mantissa', 1):\n",
    "    print(bin(i))\n",
    "    "
   ]
  },
  {
   "cell_type": "code",
   "execution_count": 10,
   "metadata": {},
   "outputs": [],
   "source": [
    "import sys\n",
    "sys.path.append(\"../\")\n",
    "\n",
    "from pybatina.advanced_weight_recovery import *\n",
    "from pybatina.utils import *"
   ]
  },
  {
   "cell_type": "code",
   "execution_count": 11,
   "metadata": {},
   "outputs": [],
   "source": [
    "awr = AdvancedWeightRecovery(guess_range=guess_range)\n",
    "secret_hamming_weight_set = [np.vectorize(hamming_weight)(input_values * secret_number) for input_values in awr.input_value_set]"
   ]
  },
  {
   "cell_type": "code",
   "execution_count": 12,
   "metadata": {},
   "outputs": [
    {
     "name": "stdout",
     "output_type": "stream",
     "text": [
      "CPU times: user 1.57 s, sys: 31.9 ms, total: 1.6 s\n",
      "Wall time: 1.6 s\n"
     ]
    },
    {
     "data": {
      "text/plain": [
       "-4.981213e-01    1.000000\n",
       "-2.700321e-20    0.996583\n",
       "-1.159779e-10    0.983851\n",
       " 4.981213e-01    0.962515\n",
       "-7.600728e-06    0.957191\n",
       " 2.700321e-20    0.954030\n",
       " 1.159779e-10    0.935469\n",
       " 7.600728e-06    0.902455\n",
       "-4.981290e-01    0.809400\n",
       "-4.981175e-01    0.800439\n",
       "dtype: float64"
      ]
     },
     "execution_count": 12,
     "metadata": {},
     "output_type": "execute_result"
    }
   ],
   "source": [
    "%%time\n",
    "awr.recover_weight(secret_hamming_weight_set)"
   ]
  },
  {
   "cell_type": "code",
   "execution_count": null,
   "metadata": {},
   "outputs": [],
   "source": []
  }
 ],
 "metadata": {
  "kernelspec": {
   "display_name": "Python 3",
   "language": "python",
   "name": "python3"
  },
  "language_info": {
   "codemirror_mode": {
    "name": "ipython",
    "version": 3
   },
   "file_extension": ".py",
   "mimetype": "text/x-python",
   "name": "python",
   "nbconvert_exporter": "python",
   "pygments_lexer": "ipython3",
   "version": "3.8.2"
  }
 },
 "nbformat": 4,
 "nbformat_minor": 4
}
